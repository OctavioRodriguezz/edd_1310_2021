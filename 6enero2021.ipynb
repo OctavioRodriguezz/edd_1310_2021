{
  "nbformat": 4,
  "nbformat_minor": 0,
  "metadata": {
    "colab": {
      "name": "6enero2021.ipynb",
      "provenance": [],
      "authorship_tag": "ABX9TyOr+hpjQkvb3Ze3YY3qQLFU",
      "include_colab_link": true
    },
    "kernelspec": {
      "name": "python3",
      "display_name": "Python 3"
    }
  },
  "cells": [
    {
      "cell_type": "markdown",
      "metadata": {
        "id": "view-in-github",
        "colab_type": "text"
      },
      "source": [
        "<a href=\"https://colab.research.google.com/github/OctavioRodriguezz/edd_1310_2021/blob/master/6enero2021.ipynb\" target=\"_parent\"><img src=\"https://colab.research.google.com/assets/colab-badge.svg\" alt=\"Open In Colab\"/></a>"
      ]
    },
    {
      "cell_type": "code",
      "metadata": {
        "id": "HZ9zhxbKnU2H"
      },
      "source": [
        "class Queue:\r\n",
        "  def __init__( self ):\r\n",
        "    self.__data = list ()\r\n",
        "  def is_empty( self ):\r\n",
        "    return len(self.__data) == 0\r\n",
        "  def length( self ):\r\n",
        "    return len(self.__data)\r\n",
        "  def enqueue( self, elem ):\r\n",
        "    self.__data.append(elem)\r\n",
        "  def dequeue( self ):\r\n",
        "    if not self.is_empty():\r\n",
        "      return self.__data.pop(0)\r\n",
        "    else:\r\n",
        "      return None\r\n",
        "  def to_string( self ):\r\n",
        "    cadena = \"\"\r\n",
        "    for elem in self.__data:\r\n",
        "      cadena = cadena + \"|\" + str ( elem )\r\n",
        "    cadena = cadena + \"|\"\r\n",
        "    return cadena   "
      ],
      "execution_count": 1,
      "outputs": []
    },
    {
      "cell_type": "code",
      "metadata": {
        "id": "A5Pe1aEW8CNr"
      },
      "source": [
        "from pilas import Stack\r\n",
        "\r\n",
        "pila = Stack()\r\n",
        "\r\n",
        "pila.push(\"a\")\r\n",
        "pila.push(\"x\")\r\n",
        "pila.to_string()\r\n",
        "pila.push(\"b\")\r\n",
        "pila.push(\"y\")\r\n",
        "pila.to_string()\r\n",
        "var = pila.pop()\r\n",
        "pila.to_string()\r\n",
        "print(f\"var = {var }\")"
      ],
      "execution_count": null,
      "outputs": []
    }
  ]
}