{
  "nbformat": 4,
  "nbformat_minor": 0,
  "metadata": {
    "colab": {
      "name": "6octubre_1310.ipynb",
      "provenance": [],
      "authorship_tag": "ABX9TyN64QmQ4MzZqhey8289P1j2",
      "include_colab_link": true
    },
    "kernelspec": {
      "name": "python3",
      "display_name": "Python 3"
    }
  },
  "cells": [
    {
      "cell_type": "markdown",
      "metadata": {
        "id": "view-in-github",
        "colab_type": "text"
      },
      "source": [
        "<a href=\"https://colab.research.google.com/github/OctavioRodriguezz/edd_1310_2021/blob/master/6octubre_1310.ipynb\" target=\"_parent\"><img src=\"https://colab.research.google.com/assets/colab-badge.svg\" alt=\"Open In Colab\"/></a>"
      ]
    },
    {
      "cell_type": "code",
      "metadata": {
        "id": "OVeqSvu1t4tm"
      },
      "source": [
        "# string contibnuacion \n",
        "\n",
        "numeros_txt = \"          1, 2, 3, 4   , 5  , 35  ,15  ,12\"\n",
        "print(numeros_txt)\n",
        "numeros_txt = numeros_txt.lstrip().split(',')\n",
        "print(numeros_txt)\n",
        "\n",
        "for j in range(len(numeros_txt)):\n",
        "  numeros_txt[ j ] = int(numeros_txt[j].strip())\n",
        "  \n",
        "print(numeros_txt)\n",
        "\n",
        "# funcion range\n",
        "#range(inicio, stop, incremento)\n",
        "print(range(0,10,3))\n",
        "rango = range(1,10,2)\n",
        "\n",
        "for x in rango:\n",
        "  print(x)\n",
        "rango= range(10)\n",
        "for x in rango:\n",
        "  print(x)\n"
      ],
      "execution_count": null,
      "outputs": []
    },
    {
      "cell_type": "markdown",
      "metadata": {
        "id": "ZUFYRgs1xt2O"
      },
      "source": [
        "# Listas\n",
        "- mutables\n",
        "- declaran con [ ]\n",
        "- slector [ int ]\n",
        "- pueden ser d cualquier tipo y mezclados\n",
        "\n",
        "# Tuplas\n",
        "- NO mutables\n",
        "- declaran vcon ( )\n",
        "- selector [ int ]\n",
        "\n",
        "# Diccionarios\n",
        "- Son mutables\n",
        "- son conjunto de pares llave:valor\n",
        "-equivalentes a los objetos JSON de Java\n",
        "\n",
        "# Conjuntos\n",
        "- representacion de la teoria de conjuntos\n"
      ]
    },
    {
      "cell_type": "code",
      "metadata": {
        "id": "QU31bTtzy568"
      },
      "source": [
        "# Listas\n",
        "frutas = [ \"pera\" , \"manzana\" , \"fresa\" , \"kiwi\",\"naranja\"]\n",
        "print(frutas)\n",
        "cosas = [\"cuaderno\", 2 , 3.1416 , True , False , [\"rojo\" , \"azul\"] ]\n",
        "print(cosas)\n",
        "frutas[2]=\"Fresa\"    # frutas[2] = frutas[2].capitalize()\n",
        "print(frutas)\n",
        "# agregar a lista\n",
        "frutas.append(\"aguacate\")\n",
        "print(frutas)\n",
        "frutas.insert(2,\"sandia\")\n",
        "print(frutas)\n",
        "\n",
        "# concatenar listas\n",
        "fecha = [\"06\" , \"10\" , \"2020\"]  # 06/10/2020\n",
        "print(fecha)\n",
        "fecha_str = \"/\".join(fecha)\n",
        "print(fecha_str)\n",
        "\n"
      ],
      "execution_count": null,
      "outputs": []
    },
    {
      "cell_type": "code",
      "metadata": {
        "id": "eieqZzJi3-YX"
      },
      "source": [
        "# eliminar elemntos \n",
        "cosas = [\"cuaderno\", 2 , 3.1416 , True , False , [\"rojo\" , \"azul\"] ]\n",
        "print(cosas)\n",
        "cosas.append(\"libro\")\n",
        "cosas.append(\"lapiz\")\n",
        "print(cosas)\n",
        "algo = cosas.pop()    # pop quita elemntos de la lista, al final o indicnado index\n",
        "print(cosas)\n",
        "\n",
        "algo = cosas.pop(2)\n",
        "print(cosas)\n",
        "print(algo)\n",
        "cosas.remove(2)\n",
        "print(cosas)\n",
        "\n",
        "# vaciar una iista\n",
        "#cosas.clear()\n",
        "print(cosas)\n",
        "\n",
        "# ordenar las listas\n",
        "print(frutas)\n",
        "frutas.sort()\n",
        "print(frutas)\n"
      ],
      "execution_count": null,
      "outputs": []
    },
    {
      "cell_type": "code",
      "metadata": {
        "id": "nf7i9ML27xJH"
      },
      "source": [
        "# slicing\n",
        "\n",
        "cosas = [\"cuaderno\", 2 , 3.1416 , True , False , [\"rojo\" , \"azul\"] ]\n",
        "print(cosas[3:5:1])\n",
        "print(cosas)\n",
        "print(cosas[0][3:5:1])\n",
        "\n",
        "numeros = [0,1,2,3,4,5,6,7,8,9,10,11,12,13,14,15]\n",
        "print(numeros[8:13:])\n",
        "\n",
        "# sustituir rebanadas -2,-2  -> [0,1,2,3,4,5,6,7,-2,-2,13,14,15] \n",
        "\n",
        "numeros[8:13:] =[-2,-2]\n",
        "print(numeros)\n",
        "\n",
        "# preguntar por existencia\n",
        "print( 100 in numeros)\n"
      ],
      "execution_count": null,
      "outputs": []
    },
    {
      "cell_type": "markdown",
      "metadata": {
        "id": "8-6_5g7E_Q9G"
      },
      "source": [
        "# Listas multi dimension\n",
        "\n",
        "listas dentro de listas"
      ]
    },
    {
      "cell_type": "code",
      "metadata": {
        "id": "fZAN8yfD_XcC"
      },
      "source": [
        "computadora =[\"HP\", \"Mac Book Pro 17\" , \"Mate Book\" , \"Lenovo Legion\"]\n",
        "oss = [\"Windows 10\" , \"Linux\" , \"Android\" , \"iOS\" ]\n",
        "\n",
        "computo = [computadora , oss]\n",
        "print(computo[0])\n",
        "print(computo[1])\n",
        "print(computo[0][2])\n",
        "print(computo[0][2][0:5:])\n",
        "print(computo[0][3][5: :-1])\n",
        "dbms = [ [\"Mysql\",\"Open Source\" , False] ,[\"MS SQL Server\",\"de paga\",True] ]\n",
        "computo.append(dbms)\n",
        "print(computo)"
      ],
      "execution_count": null,
      "outputs": []
    }
  ]
}