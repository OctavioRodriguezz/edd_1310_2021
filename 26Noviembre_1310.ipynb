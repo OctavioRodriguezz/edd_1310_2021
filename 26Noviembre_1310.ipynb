{
  "nbformat": 4,
  "nbformat_minor": 0,
  "metadata": {
    "colab": {
      "name": "26Noviembre_1310.ipynb",
      "provenance": [],
      "authorship_tag": "ABX9TyN3kw9qWKIYf6Z9TCYj05Bc",
      "include_colab_link": true
    },
    "kernelspec": {
      "name": "python3",
      "display_name": "Python 3"
    }
  },
  "cells": [
    {
      "cell_type": "markdown",
      "metadata": {
        "id": "view-in-github",
        "colab_type": "text"
      },
      "source": [
        "<a href=\"https://colab.research.google.com/github/OctavioRodriguezz/edd_1310_2021/blob/master/26Noviembre_1310.ipynb\" target=\"_parent\"><img src=\"https://colab.research.google.com/assets/colab-badge.svg\" alt=\"Open In Colab\"/></a>"
      ]
    },
    {
      "cell_type": "code",
      "metadata": {
        "id": "7bp0DaKp1Q37"
      },
      "source": [
        "class Stack:\n",
        "  def__init__( self ):\n",
        "    self.__data = list()\n",
        "    \n",
        "  def is_empty( self ):\n",
        "    return len(self.__data) == 0\n",
        "\n",
        "  def length( self ):\n",
        "    return len( self.__data )\n",
        "\n",
        "  def pop( self ):\n",
        "    if self.is_empty():\n",
        "      print(\"pila vacia\")\n",
        "    else: \n",
        "      return self.__data.pop()\n",
        "\n",
        "  def push( self , value ):\n",
        "    self.__data.append(value):\n",
        "\n",
        "  def peek( self ):\n",
        "    return self.__data[ len(self.__data) - 1 ]\n",
        "\n",
        "  def to_string( self ):\n",
        "    for item in self.__data:\n",
        "      print(f\"  { item } \")\n",
        "      print(\" -----\") \n",
        "\n",
        "\n",
        "from pilas import Stack\n",
        "\n",
        "pila = Stacl()\n",
        "\n",
        "pila.push('a')\n",
        "pila.push('x')\n",
        "pila.to_string()\n",
        "pila.push('b')\n",
        "pila.push('y')\n",
        "pila.to_string()\n",
        "var = pila.pop()\n",
        "pila.to_string()\n",
        "print(f\"var= { var } \")"
      ],
      "execution_count": null,
      "outputs": []
    },
    {
      "cell_type": "code",
      "metadata": {
        "id": "AJRICvED40Vn"
      },
      "source": [
        "from pilas import Stack\n",
        "\n",
        "pila = Stack()\n",
        "\n",
        "pila.push('a')\n",
        "pila.push('x')\n",
        "pila.to_string()\n",
        "pila.push('b')\n",
        "pila.push('y')\n",
        "pila.to_string()\n",
        "var = pila.pop()\n",
        "pila.to_string()\n",
        "print(f\"var= { var } \")"
      ],
      "execution_count": null,
      "outputs": []
    }
  ]
}