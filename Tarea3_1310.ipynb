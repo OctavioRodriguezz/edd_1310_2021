{
  "nbformat": 4,
  "nbformat_minor": 0,
  "metadata": {
    "colab": {
      "name": "Tarea3_1310.ipynb",
      "provenance": [],
      "authorship_tag": "ABX9TyOkt0CapqoIx7lvNMmyGOhv",
      "include_colab_link": true
    },
    "kernelspec": {
      "name": "python3",
      "display_name": "Python 3"
    }
  },
  "cells": [
    {
      "cell_type": "markdown",
      "metadata": {
        "id": "view-in-github",
        "colab_type": "text"
      },
      "source": [
        "<a href=\"https://colab.research.google.com/github/OctavioRodriguezz/edd_1310_2021/blob/master/Tarea3_1310.ipynb\" target=\"_parent\"><img src=\"https://colab.research.google.com/assets/colab-badge.svg\" alt=\"Open In Colab\"/></a>"
      ]
    },
    {
      "cell_type": "code",
      "metadata": {
        "id": "LR_FYNXJ3QcN",
        "outputId": "a073f9aa-112f-4914-b269-39dc10cb0656",
        "colab": {
          "base_uri": "https://localhost:8080/",
          "height": 70
        }
      },
      "source": [
        "class Persona:\n",
        "  def __init__(self,nombre,edad,estatura):\n",
        "    self.__nombre = nombre\n",
        "    self.__edad = edad \n",
        "    self.__estatura = estatura\n",
        "  \n",
        "  def dormir(self):\n",
        "     return self.__nombre + \", a dormir\"\n",
        "\n",
        "  def comer(self):\n",
        "     return self.__nombre +\", a comer\"\n",
        "\n",
        "persona = Persona(\"Octavio\",\"21\",\"1.78cm\")\n",
        "print(persona)\n",
        "print(persona.dormir())\n",
        "print(persona.comer())"
      ],
      "execution_count": 9,
      "outputs": [
        {
          "output_type": "stream",
          "text": [
            "<__main__.Persona object at 0x7f704f542e10>\n",
            "Octavio, a dormir\n",
            "Octavio, a comer\n"
          ],
          "name": "stdout"
        }
      ]
    },
    {
      "cell_type": "code",
      "metadata": {
        "id": "6ms3im073iw_",
        "outputId": "7ced20e0-ce3f-46ca-81f5-53a59bb9c899",
        "colab": {
          "base_uri": "https://localhost:8080/",
          "height": 52
        }
      },
      "source": [
        "class Celular:\n",
        "  def __init__(self,marca,modelo,memoria):\n",
        "       self.__marca = marca\n",
        "       self.__modelo = modelo\n",
        "       self.__memoria = memoria\n",
        "\n",
        "  def llamar(self):\n",
        "       return \"Llamada\" + self.__marca\n",
        "\n",
        "  def alarma(self):\n",
        "       return \"Poner Alarma \"\n",
        "\n",
        "celular = Celular(\"Huawei\",\"Y 7\",\"64 gb\")\n",
        "print(celular.llamar())\n",
        "print(celular.alarma())"
      ],
      "execution_count": 10,
      "outputs": [
        {
          "output_type": "stream",
          "text": [
            "LlamadaHuawei\n",
            "Poner Alarma \n"
          ],
          "name": "stdout"
        }
      ]
    }
  ]
}