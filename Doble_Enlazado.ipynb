{
  "nbformat": 4,
  "nbformat_minor": 0,
  "metadata": {
    "colab": {
      "name": "Doble_Enlazado.ipynb",
      "provenance": [],
      "authorship_tag": "ABX9TyMeC0KpazgUoWeRM54jYT0l",
      "include_colab_link": true
    },
    "kernelspec": {
      "name": "python3",
      "display_name": "Python 3"
    }
  },
  "cells": [
    {
      "cell_type": "markdown",
      "metadata": {
        "id": "view-in-github",
        "colab_type": "text"
      },
      "source": [
        "<a href=\"https://colab.research.google.com/github/OctavioRodriguezz/edd_1310_2021/blob/master/Doble_Enlazado.ipynb\" target=\"_parent\"><img src=\"https://colab.research.google.com/assets/colab-badge.svg\" alt=\"Open In Colab\"/></a>"
      ]
    },
    {
      "cell_type": "code",
      "metadata": {
        "id": "fg-OA1_m6b6Y"
      },
      "source": [
        "class DobleNodo():          # enlace_doble\n",
        "    def __init__(self,value, siguiente = None, anterior = None):\n",
        "        self.data = value\n",
        "        self.siguiente = siguiente\n",
        "        self.anterior = anterior\n",
        "\n",
        "class DoubleLinkedList():\n",
        "    def __init__(self):\n",
        "        self.__head = NodoDoble(None,None,None)\n",
        "        self.__tail = NodoDoble(None,None,None)\n",
        "        self.__head.next = self.__tail\n",
        "        self.__tail.prev = self.__head\n",
        "        self.__size = 0 \n",
        "\n",
        "    def is_empty(self):\n",
        "        return self.__head  == None\n",
        "\n",
        "    def get_size(self):\n",
        "        curr_node = self.__head\n",
        "        contador = 0\n",
        "        while curr_node != None:\n",
        "            curr_node = curr_node.siguiente\n",
        "            contador = contador + 1\n",
        "        return print(contador)    \n",
        "\n",
        "    def append(self,value):\n",
        "        curr_node = self.__head\n",
        "        nuevo = NodoDoble(value)\n",
        "        if self.__head == None:\n",
        "            self.__head = nuevo\n",
        "        else:\n",
        "            while curr_node.siguiente != None:\n",
        "                curr_node = curr_node.siguiente\n",
        "            curr_node.siguiente = nuevo  \n",
        "\n",
        "    def find_from_tail(self,value):\n",
        "        pass\n",
        "\n",
        "    def find_from_head(self, value):\n",
        "        curr_node = self.__head\n",
        "        dato = None\n",
        "        for x in range(value):\n",
        "            curr_node = curr_node.siguiente  \n",
        "        dato = curr_node.data\n",
        "        return print(dato)\n",
        "\n",
        "    def remove_from_tail(self, value):\n",
        "        pass\n",
        "\n",
        "    def remove_from_head(self, value):\n",
        "        curr_node = self.__head\n",
        "        if self.__head.data == value:\n",
        "            self.__head = self.__head.siguiente\n",
        "        else:\n",
        "            anterior = None\n",
        "            while curr_node.data != value and curr_node.siguiente != None:\n",
        "                anterior = curr_node\n",
        "                curr_node = curr_node.siguiente\n",
        "            if curr_node.data == value:\n",
        "                anterior.siguiente = curr_node.siguiente\n",
        "            else:\n",
        "                print(\"El dato no esxixte en la lista\")            \n",
        "\n",
        "    def transversal(self):\n",
        "        curr_node = self.__head\n",
        "        while curr_node != None:\n",
        "            print(f\"{curr_node.data} -->\", end=\"\")\n",
        "            curr_node = curr_node.siguiente\n",
        "        print(\" \") \n",
        "\n",
        "    def reverse_transversal(self):\n",
        "        curr_node = self.__tail\n",
        "        while curr_node != None:\n",
        "            print(f\"{curr_node.data} -->\", end=\"\")\n",
        "            curr_node = curr_node.anterior\n",
        "        print(\" \")"
      ],
      "execution_count": null,
      "outputs": []
    },
    {
      "cell_type": "code",
      "metadata": {
        "id": "gwb6333D7afT"
      },
      "source": [
        "from enlace_doble import DoubleLinkedList\n",
        "if __name__ == \"__main__\":\n",
        "    ed = DoubleLinkedList()\n",
        "    print(f\"esta vacia ?  {ls.is_empty()}\")\n",
        "    ed.append(10)\n",
        "    ed.append(5)\n",
        "    ed.append(6)\n",
        "    ed.append(20)\n",
        "    print(f\"esta vacia ?  {ls.is_empty()}\")\n",
        "    ed.transversal()\n",
        "    ed.remove_from_head(7)\n",
        "    ed.transversal()\n",
        "    ed.reverse_transversal()\n",
        "    ed.get_size()\n",
        "    ed.find_from_head(3)\n",
        "    "
      ],
      "execution_count": null,
      "outputs": []
    }
  ]
}