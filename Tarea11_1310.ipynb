{
  "nbformat": 4,
  "nbformat_minor": 0,
  "metadata": {
    "colab": {
      "name": "Tarea11_1310.ipynb",
      "provenance": [],
      "authorship_tag": "ABX9TyPpdFElkakkMPrQ3SlmO2GU",
      "include_colab_link": true
    },
    "kernelspec": {
      "name": "python3",
      "display_name": "Python 3"
    }
  },
  "cells": [
    {
      "cell_type": "markdown",
      "metadata": {
        "id": "view-in-github",
        "colab_type": "text"
      },
      "source": [
        "<a href=\"https://colab.research.google.com/github/OctavioRodriguezz/edd_1310_2021/blob/master/Tarea11_1310.ipynb\" target=\"_parent\"><img src=\"https://colab.research.google.com/assets/colab-badge.svg\" alt=\"Open In Colab\"/></a>"
      ]
    },
    {
      "cell_type": "code",
      "metadata": {
        "id": "LeBB-Nzt7DX1"
      },
      "source": [
        "#TAREA 11\r\n",
        "\r\n",
        "def cuenta_re(n):\r\n",
        "    if n >=0:\r\n",
        "        print(f\"t,t,t{n}\")\r\n",
        "        regresiva(n-1)\r\n",
        "\r\n",
        "def main():\r\n",
        "    n=16\r\n",
        "    print(f\"cuenta regresiva: {n} \")\r\n",
        "    regresiva(n)\r\n",
        "main()\r\n",
        "    \r\n",
        "class Stack:\r\n",
        "  def __init__(self):\r\n",
        "        self.__data= []\r\n",
        "        \r\n",
        "  def is_empty(self):\r\n",
        "        return len(self.__data)==0\r\n",
        "\r\n",
        "  def length(self):\r\n",
        "        return len(self.__data)\r\n",
        "\r\n",
        "  def pop(self):\r\n",
        "        if self.is_empty():\r\n",
        "            print(\"fila vacia\")\r\n",
        "        else:\r\n",
        "            return self.__data.pop()\r\n",
        "  def peek(self):\r\n",
        "        return self.__data[len(self.__data)-1]\r\n",
        "  def push(self,value):\r\n",
        "        self.__data.append(value\r\n",
        "\r\n",
        "  def to_string(self):\r\n",
        "        print(\"----\")\r\n",
        "        for item in self.__data[::-1]: \r\n",
        "            print(f\"| {item} |\")\r\n",
        "            print(\"----\")\r\n",
        "\r\n",
        "def quitar(pila, size, curr) :\r\n",
        "    if (pila.is_empty() or curr == size) :\r\n",
        "        return\r\n",
        "    x = pila.peek()\r\n",
        "    pila.pop()\r\n",
        "    quitar(pila, size, curr+1)\r\n",
        "    m=(size/2)\r\n",
        "    if m == int(m):\r\n",
        "        if (curr != m and curr != (m-1)):\r\n",
        "            pila.push(x)\r\n",
        "    else:\r\n",
        "        if (curr != int(size/2)) :\r\n",
        "            pila.push(x)\r\n",
        "def main2():\r\n",
        "    s = Stack()\r\n",
        "    s.push('°')\r\n",
        "    s.push('°')\r\n",
        "    s.push('%')\r\n",
        "    s.push('°')\r\n",
        "    s.push('°')\r\n",
        "    print(\"signos\")\r\n",
        "    s.to_string()\r\n",
        "    print('quitar el signo')\r\n",
        "    print(\"signos\")\r\n",
        "    deleteMid(s, s.length(), 0)\r\n",
        "    s.to_string()\r\n",
        "main2()"
      ],
      "execution_count": null,
      "outputs": []
    }
  ]
}