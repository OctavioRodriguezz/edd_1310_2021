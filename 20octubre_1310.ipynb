{
  "nbformat": 4,
  "nbformat_minor": 0,
  "metadata": {
    "colab": {
      "name": "20octubre_1310.ipynb",
      "provenance": [],
      "authorship_tag": "ABX9TyM3sP2Dyq39rToEX8nJs7KI",
      "include_colab_link": true
    },
    "kernelspec": {
      "name": "python3",
      "display_name": "Python 3"
    }
  },
  "cells": [
    {
      "cell_type": "markdown",
      "metadata": {
        "id": "view-in-github",
        "colab_type": "text"
      },
      "source": [
        "<a href=\"https://colab.research.google.com/github/OctavioRodriguezz/edd_1310_2021/blob/master/20octubre_1310.ipynb\" target=\"_parent\"><img src=\"https://colab.research.google.com/assets/colab-badge.svg\" alt=\"Open In Colab\"/></a>"
      ]
    },
    {
      "cell_type": "code",
      "metadata": {
        "id": "pz2NzqhxM5cy"
      },
      "source": [
        "archivo = open('numeros.txt','rt')\n",
        "for linea in archivo.readlines():\n",
        "  for trunc in linea.split(','):\n",
        "      print(int(trunc.strip()))"
      ],
      "execution_count": null,
      "outputs": []
    },
    {
      "cell_type": "markdown",
      "metadata": {
        "id": "RKQVaGOiNISn"
      },
      "source": [
        "# sintaxis del for en python\n",
        "dos versiones de for\n",
        "\n",
        "range\n",
        "in iterator"
      ]
    },
    {
      "cell_type": "code",
      "metadata": {
        "id": "jQpQxUruNOFW"
      },
      "source": [
        "r= range(0,10,2)\n",
        "for x in r:\n",
        "    print(x)\n",
        "\n",
        "colores = ['rojo', 'rosa', 'azul', 'fucsia']\n",
        "for indice in range(0,4,1): #for(indice = 0;indice <4; indice++)\n",
        "    #print(colores[indice])\n",
        "    colores[indice]=colores[indice].upper()\n",
        "\n",
        "#for sobre un iterador\n",
        "\n",
        "for col in colores:\n",
        "    print(col)"
      ],
      "execution_count": null,
      "outputs": []
    },
    {
      "cell_type": "markdown",
      "metadata": {
        "id": "6gOVVbgwNUcr"
      },
      "source": [
        "# generadores\n",
        "[ \"hola\" for x in range(10) ] [[0,0,0], [0,0,0], [0,0,0]]\n",
        "\n",
        "3x3"
      ]
    },
    {
      "cell_type": "code",
      "metadata": {
        "id": "hl2HtIMENW8D"
      },
      "source": [
        "lista = [ 0 for x in range(10) ]\n",
        "print(lista)\n",
        "\n",
        "lista = [[0 for x in range(3)] for x in range(3)]\n",
        "print(lista)\n",
        "\n",
        "ren = 5\n",
        "col = 3\n",
        "lista = [[0 for x in range(col)] for x in range(ren)]\n",
        "print(lista)"
      ],
      "execution_count": null,
      "outputs": []
    },
    {
      "cell_type": "markdown",
      "metadata": {
        "id": "xUMv3gM3Njdi"
      },
      "source": [
        "# POO en Python\n",
        "clase\n",
        "creación de objetos\n",
        "constructor\n",
        "encapsulamiento\n",
        "métodos\n",
        "atributos\n",
        "herencia"
      ]
    },
    {
      "cell_type": "code",
      "metadata": {
        "id": "xFcCA2D0NlOV"
      },
      "source": [
        "class Computadora:\n",
        "   def _init_( self, m, p):\n",
        "       self.__marca=m\n",
        "       self.__procesador=p\n",
        "\n",
        "   def to_string( self ):\n",
        "       return \"Marca:\"+self._marca+\" Procesador:\"+self._procesador\n",
        "\n",
        "mi_pc = Computadora(\"Toshiba\", \"Intel i7\") #Variable que hace referencia\n",
        "mi_pc.__marca=\"HP\"\n",
        "print(mi_pc.to_string())"
      ],
      "execution_count": null,
      "outputs": []
    }
  ]
}