{
  "nbformat": 4,
  "nbformat_minor": 0,
  "metadata": {
    "colab": {
      "name": "13octubre_1310.ipynb",
      "provenance": [],
      "authorship_tag": "ABX9TyP0wdRZc/wjdBaAhSg5nIgD",
      "include_colab_link": true
    },
    "kernelspec": {
      "name": "python3",
      "display_name": "Python 3"
    }
  },
  "cells": [
    {
      "cell_type": "markdown",
      "metadata": {
        "id": "view-in-github",
        "colab_type": "text"
      },
      "source": [
        "<a href=\"https://colab.research.google.com/github/OctavioRodriguezz/edd_1310_2021/blob/master/13octubre_1310.ipynb\" target=\"_parent\"><img src=\"https://colab.research.google.com/assets/colab-badge.svg\" alt=\"Open In Colab\"/></a>"
      ]
    },
    {
      "cell_type": "code",
      "metadata": {
        "id": "u6qbvlC6vObR"
      },
      "source": [
        "alumno = { \n",
        "          \"num_cta\" : 303030303 ,\n",
        "          \"carrera\" : \"ICO\",\n",
        "          \"promedio\" : 9.8,\n",
        "          \"materias\" :[\"EDD\",\"CyP\",\"Calidad\",\"Emprendimiento\"],\n",
        "          \"direccion\" : { \n",
        "                            \"calle\":\"rancho seco\",\n",
        "                            \"numero\" : 23 ,\n",
        "                            \"delegacion\" : \"Neza\",\n",
        "                            \"estado\" : {\n",
        "                                        \"id\" : 15 ,\n",
        "                                        \"nombre\" : \"Estado de Máxico\" ,\n",
        "                                        \"nombre_corto\" : \"EdoMex\"\n",
        "                                        } ,\n",
        "                            \"CP\":57170\n",
        "\n",
        "                        } \n",
        "          }\n",
        "print(alumno)\n",
        "alumno['carrera'] =\"Ingenieria en Computacion\"\n",
        "print(alumno)\n",
        "alumno['nombre_completo']={'primer':\"Juan\",\n",
        "                           'segundo':\"Pedro\",\n",
        "                           \"materno\":\"Perez\",\n",
        "                           \"paterno\":\"Gomez\"\n",
        "                           }\n",
        "alumno['semestre']=3\n",
        "print(alumno)\n",
        "\n",
        "print(f\"{alumno['nombre_completo']['primer']}{alumno['nombre_completo']['segundo']}\")"
      ],
      "execution_count": null,
      "outputs": []
    },
    {
      "cell_type": "code",
      "metadata": {
        "id": "-1mIk9WnynmP"
      },
      "source": [
        "#help(dic)\n",
        "# key(), value() items()\n",
        "\n",
        "llaves = alumno.keys()\n",
        "print(llaves)\n",
        "for llave in llaves:\n",
        "  print(llave.upper())\n",
        "\n",
        "valores = alumno.values()\n",
        "for val in valores:\n",
        "    print(val)\n",
        "\n",
        "pares = alumno.items()\n",
        "print(pares)\n",
        "for elem in pares:\n",
        "    print(f\"el campo { elem [0] } tiene el valor {elem[1]}\")\n",
        "    "
      ],
      "execution_count": null,
      "outputs": []
    },
    {
      "cell_type": "code",
      "metadata": {
        "id": "z6Rm_6qk1sS6"
      },
      "source": [
        "#concatenar diccionarios\n",
        "computadora = {\"procesador\":\"Intel i7\",\"ram\":\"Kingston 128GB\"}\n",
        "otros = {\"monitor\":\"LG 49\\\"\",\"hd\":\"Toshiba 1TB\"}\n",
        "computadora.update(otros) #update---anexar pares a otros dicc\n",
        "print(computadora)"
      ],
      "execution_count": null,
      "outputs": []
    },
    {
      "cell_type": "markdown",
      "metadata": {
        "id": "YWrNZ6Bv3Rs4"
      },
      "source": [
        "# Funciones (modularidad)\n",
        "- unidades de cofigo reutilizable \n",
        "- es un mecanismo de organizacion de codigo\n",
        "- Una funcion toma d e0 a n parametros de entrada\n",
        "- Tienen una sola salida (return) de cualquier tipo de dato\n",
        "- solo puedes hacer dos cosas:\n",
        "      - definirla\n",
        "      - llamarla \n",
        "- se definen con la palabra reservada 'def'"
      ]
    },
    {
      "cell_type": "code",
      "metadata": {
        "id": "4ErkQPGI4p7b"
      },
      "source": [
        "def sumar( x , y):\n",
        "    resultado = x + y\n",
        "    return resultado \n",
        "\n",
        "def saludar( nombre ):\n",
        "    print(f\" Hola {nombre}, como etsas?\")\n",
        "    return None\n",
        "# procesar none\n",
        "\n",
        "def multiplicar( valor , veces ):\n",
        "    if valor != None:\n",
        "        c = valor * veces\n",
        "    else:\n",
        "      c = \"Operacion no valida\"\n",
        "    return c\n",
        "    \n",
        "def operacion( a, b , c):\n",
        "  res = a + (b/c)\n",
        "  return res\n",
        "\n",
        "print(sumar(10,5))\n",
        "print(sumar(2,6))\n",
        "saludar(\"Tavo\")\n",
        "print(multiplicar(5,6))\n",
        "print(multiplicar(None,6))\n",
        "\n",
        "print(operacion(2,9,3))\n",
        "print(operacion(2,3,9))"
      ],
      "execution_count": null,
      "outputs": []
    },
    {
      "cell_type": "code",
      "metadata": {
        "id": "3eH5za8Q_Nre"
      },
      "source": [
        "# valores por defecto\n",
        "def comanda( primer, fuerte , postre=\"galleta de animalto\" ):\n",
        "    print(f\"De entrada pidio:{ primer }\")\n",
        "    print(f\"De plato fuerte pidio:{ fuerte }\")\n",
        "    print(f\"De postre pidio:{ postre }\")\n",
        "\n",
        "\n",
        "# argumentos posicionales con tuplas *\n",
        "def comanda_2( *opciones ):\n",
        "    print(opciones)\n",
        "    print(f\"De entrada pidio:{ opciones[0] }\")\n",
        "    print(f\"De plato fuerte pidio:{ opciones[1] }\")\n",
        "    print(f\"De postre pidio:{ opciones[2] }\")\n",
        "    print(\"\\nIncicaciones extra: \")\n",
        "    for ind in opciones[3::]:\n",
        "        print(f\"\\t {ind}\")\n",
        "    \n",
        "\n",
        "\n",
        "\n",
        "comanda(\"sopa\", \"tortas d papa\",\"gelatina de limon\")\n",
        "comanda(\"sopa\", \"tortas d papa\")\n",
        "comanda_2(\"sopa\", \"tortas d papa\",\"gelatina de limon\",\n",
        "          \"las tortas doradas\", \"traer limon\", \"agua con hielo\")\n",
        "\n",
        "# argumentos posicionales con dicionarios "
      ],
      "execution_count": null,
      "outputs": []
    },
    {
      "cell_type": "code",
      "metadata": {
        "id": "ayfC6lgxCkRO",
        "outputId": "36ed1635-1f70-40d7-ed13-59fe5ab4418e",
        "colab": {
          "base_uri": "https://localhost:8080/",
          "height": 161
        }
      },
      "source": [
        "# argumentos posicionales con dicionarios \n",
        "def comanda_3( **opciones ):\n",
        "    print(opciones)\n",
        "    for op in opciones.items():\n",
        "        print(f\"{op[0]} -> {op[1]}\")\n",
        "\n",
        "comanda_3(primer=\"sopa\",fuerte=\"tortas d papa\",postre=\"gelatina de limon\",\n",
        "          extra1=\"las tortas doradas\",extra2=\"traer limon\",extra3=\"agua con hielo\")"
      ],
      "execution_count": 43,
      "outputs": [
        {
          "output_type": "stream",
          "text": [
            "{'primer': 'sopa', 'fuerte': 'tortas d papa', 'postre': 'gelatina de limon', 'extra1': 'las tortas doradas', 'extra2': 'traer limon', 'extra3': 'agua con hielo'}\n",
            "primer -> sopa\n",
            "fuerte -> tortas d papa\n",
            "postre -> gelatina de limon\n",
            "extra1 -> las tortas doradas\n",
            "extra2 -> traer limon\n",
            "extra3 -> agua con hielo\n"
          ],
          "name": "stdout"
        }
      ]
    }
  ]
}