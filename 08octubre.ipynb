{
  "nbformat": 4,
  "nbformat_minor": 0,
  "metadata": {
    "colab": {
      "name": "08octubre.ipynb",
      "provenance": [],
      "authorship_tag": "ABX9TyNDByjBHO1d2dmooFNprXSy",
      "include_colab_link": true
    },
    "kernelspec": {
      "name": "python3",
      "display_name": "Python 3"
    }
  },
  "cells": [
    {
      "cell_type": "markdown",
      "metadata": {
        "id": "view-in-github",
        "colab_type": "text"
      },
      "source": [
        "<a href=\"https://colab.research.google.com/github/OctavioRodriguezz/edd_1310_2021/blob/master/08octubre.ipynb\" target=\"_parent\"><img src=\"https://colab.research.google.com/assets/colab-badge.svg\" alt=\"Open In Colab\"/></a>"
      ]
    },
    {
      "cell_type": "code",
      "metadata": {
        "id": "ksZVHWLv_7tS"
      },
      "source": [
        "monitores =[[\"Samsung\",\"17.3 \\\"\",1024],[\"BenQ\",\"40\\\"\",2048]]\n",
        "procesadores = [[\"Intel\",\"i7\",3.4],[\"AMD\",\"razzer\",3.3],[\"Intel\",\"i3\",3.1]]\n",
        "memorias = [[\"Kingston\", \"8GB\",\"DDR4\"],[\"Kingston\", \"16GB\",\"DDR3\"],[\"ADATA\", \"32GB\",\"DDR4\"]]\n",
        "\n",
        "componentes = [monitores,procesadores,memorias]\n",
        "print(componentes)\n",
        "print(componentes[2][1][1])\n",
        "print(int(componentes[0][1][2])*2)\n",
        "print(componentes[1][1][1][1:4:1])\n",
        "print(componentes[2][2][0].lower())"
      ],
      "execution_count": null,
      "outputs": []
    },
    {
      "cell_type": "code",
      "metadata": {
        "id": "uYVzj6V_IhTY",
        "outputId": "2dfe2c9b-0bcd-41a6-c845-b861345c8775",
        "colab": {
          "base_uri": "https://localhost:8080/",
          "height": 159
        }
      },
      "source": [
        "# copiar listas \n",
        "# extender listas\n",
        "\n",
        "frutas =[\"manzana\",\"pera\"]\n",
        "otras_frutas = [\"aguacate\",\"sandia\"]\n",
        "\n",
        "\n",
        "\n",
        "# + sobre listas\n",
        "#frutas = frutas  + otras_frutas\n",
        "#print(frutas)\n",
        "\n",
        "# funcion extend()\n",
        "#frutas.extend(otras_frutas)\n",
        "#print(frutas)\n",
        "\n",
        "#frutas.append(otras_frutas)\n",
        "#print(frutas)\n",
        "\n",
        "\n",
        "\n",
        "\n",
        "# copiar listas\n",
        "\n",
        "colores = [\"azul\",\"rojo\",\"verde\",\"violeta\"]\n",
        "otros_colores = colores\n",
        "print(colores)\n",
        "print(otros_colores)\n",
        "otros_colores.append(\"rosa\")\n",
        "print(colores)\n",
        "print(otros_colores)\n",
        "\n",
        "una_mas = colores.copy()    #copia de las listas independiente \n",
        "print(una_mas)\n",
        "una_mas.append(\"gris\")\n",
        "print(una_mas)\n",
        "print(colores)\n",
        "\n",
        "# unpacking de listas\n",
        "alumno = [\"Jesus\",\"Perez\",\"Herrera\",22,\"ICO\",10.0]\n",
        "#nombre = alumno[0]\n",
        "#paterno = alumno[1]\n",
        "# etc \n",
        "\n",
        "nombre,paterno,materno,edad,carrera,promedio = alumno    #mismo numero de elemntos del lado iquierdo que del derecho en listas\n",
        "print(f\"Alumno:{nombre} carrera:{carrera} promedio={promedio}\")    # f para format(print)\n"
      ],
      "execution_count": 29,
      "outputs": [
        {
          "output_type": "stream",
          "text": [
            "['azul', 'rojo', 'verde', 'violeta']\n",
            "['azul', 'rojo', 'verde', 'violeta']\n",
            "['azul', 'rojo', 'verde', 'violeta', 'rosa']\n",
            "['azul', 'rojo', 'verde', 'violeta', 'rosa']\n",
            "['azul', 'rojo', 'verde', 'violeta', 'rosa']\n",
            "['azul', 'rojo', 'verde', 'violeta', 'rosa', 'gris']\n",
            "['azul', 'rojo', 'verde', 'violeta', 'rosa']\n",
            "Alumno:Jesus carrera:ICO promedio=10.0\n"
          ],
          "name": "stdout"
        }
      ]
    },
    {
      "cell_type": "markdown",
      "metadata": {
        "id": "Sjw4PTofSgR_"
      },
      "source": [
        "# Tuplas\n",
        "- se declaran con ( )\n",
        "- selector con [ ]\n",
        "- NO son mutables\n"
      ]
    },
    {
      "cell_type": "code",
      "metadata": {
        "id": "ggKFayTkS2ok",
        "outputId": "7587c47a-2c47-43b1-bfb3-a3f7dadca0a3",
        "colab": {
          "base_uri": "https://localhost:8080/",
          "height": 70
        }
      },
      "source": [
        "# lista de valores constantes(o de consulta)\n",
        "precios = ( 99.9 , 49.9 , 12.45 , 55.66  )\n",
        "print(precios[1])\n",
        "#precios[1] = 50.0\n",
        "print(precios)\n",
        "print(precios[2:4])\n"
      ],
      "execution_count": 37,
      "outputs": [
        {
          "output_type": "stream",
          "text": [
            "49.9\n",
            "(99.9, 49.9, 12.45, 55.66)\n",
            "(12.45, 55.66)\n"
          ],
          "name": "stdout"
        }
      ]
    },
    {
      "cell_type": "markdown",
      "metadata": {
        "id": "ulZF2Q7HUYhr"
      },
      "source": [
        "# Diccionarios\n",
        "- Se declaran con { }\n",
        "-SI son  mutables\n",
        "- conjunto de llaves: valor\n",
        "- equivalente a los Objetos JSON de Java\n",
        "- selector [ 'str']"
      ]
    },
    {
      "cell_type": "code",
      "metadata": {
        "id": "97vHBVq_Unz8",
        "outputId": "a7fc28c2-88b0-4eaa-8b1b-b7aeef182371",
        "colab": {
          "base_uri": "https://localhost:8080/",
          "height": 126
        }
      },
      "source": [
        "cliente = {  }\n",
        "print(cliente)\n",
        "alumno = {   \"num_cta\"   :3030303003}\n",
        "print(alumno)\n",
        "\n",
        "alumno = {\n",
        "          \"num_cta\" :3030303003 , \n",
        "          \"carrera\" : \"ICO\" ,\n",
        "          \"promedio\" : \"9.8\" ,\n",
        "          \"materias\" : [\"EDD\",\"CYP\",\"Calidad\",\"Emprend\"],\n",
        "          \"direccion\" : {\n",
        "                            \"calle\":\"rancho seco\",\n",
        "                            \"numero\" : 23,\n",
        "                            \"delegacion\" : \"Neza\",\n",
        "                            \"estado\" :{\n",
        "                                        \"ide\" : 15,\n",
        "                                        \"nombre\" : \"Estado de Mex\" ,\n",
        "                                        \"nombre_corto\" : \"Edo.MEx\"\n",
        "                            },\n",
        "                         \"CP\" : 57170\n",
        "\n",
        "                            }\n",
        "          }\n",
        "        \n",
        "\n",
        "print(alumno)\n",
        "print(alumno['materias'])\n",
        "print(alumno['promedio'])"
      ],
      "execution_count": 44,
      "outputs": [
        {
          "output_type": "stream",
          "text": [
            "{}\n",
            "{'num_cta': 3030303003}\n",
            "{'num_cta': 3030303003, 'carrera': 'ICO', 'promedio': '9.8', 'materias': ['EDD', 'CYP', 'Calidad', 'Emprend'], 'direccion': {'calle': 'rancho seco', 'numero': 23, 'delegacion': 'Neza', 'estado': {'ide': 15, 'nombre': 'Estado de Mex', 'nombre_corto': 'Edo.MEx'}, 'CP': 57170}}\n",
            "['EDD', 'CYP', 'Calidad', 'Emprend']\n",
            "9.8\n"
          ],
          "name": "stdout"
        }
      ]
    }
  ]
}