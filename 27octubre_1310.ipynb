{
  "nbformat": 4,
  "nbformat_minor": 0,
  "metadata": {
    "colab": {
      "name": "27octubre_1310.ipynb",
      "provenance": [],
      "authorship_tag": "ABX9TyOoMTqPZECnTlr92qZun3Dl",
      "include_colab_link": true
    },
    "kernelspec": {
      "name": "python3",
      "display_name": "Python 3"
    }
  },
  "cells": [
    {
      "cell_type": "markdown",
      "metadata": {
        "id": "view-in-github",
        "colab_type": "text"
      },
      "source": [
        "<a href=\"https://colab.research.google.com/github/OctavioRodriguezz/edd_1310_2021/blob/master/27octubre_1310.ipynb\" target=\"_parent\"><img src=\"https://colab.research.google.com/assets/colab-badge.svg\" alt=\"Open In Colab\"/></a>"
      ]
    },
    {
      "cell_type": "code",
      "metadata": {
        "id": "LqzPQOl1B04p"
      },
      "source": [
        "class Computadora:\n",
        "    def __init__( self , m , p):\n",
        "        self.__marca = m\n",
        "        self.__procesador = p\n",
        "\n",
        "    def to_string( self ):\n",
        "        return \"MArca:\"+self.__marca+\" Procesador:\"+self.__procesador\n",
        "\n",
        "    def set_marca( self, m ):\n",
        "        self.__marca = m\n",
        "    def get_marca( self ):\n",
        "        return self.__marca\n",
        "    def set_procesador( self, p ):\n",
        "        self.__procesador = p \n",
        "    def get_procesador( self ):\n",
        "        return self.__procesador\n",
        "\n",
        "mi_pc = Computadora(\"Toshiba\",\"Intel i7\")\n",
        "mi_pc.__marca=\"HP \"   #intentando cambiar el valor privado\n",
        "mi_pc.set_marca(\"HP co.\")\n",
        "print(mi_pc.to_string())\n",
        "#print(mi_pc.__procesador)\n",
        "print( mi_pc.get_procesador() )"
      ],
      "execution_count": null,
      "outputs": []
    },
    {
      "cell_type": "markdown",
      "metadata": {
        "id": "XSWAZIb7Eu08"
      },
      "source": [
        "# Encapsulamiento en Python3\n",
        "## tradicional tipo Java\n",
        "    void setAtributo( val )\n",
        "    tipo getAtributo( )\n",
        "## estilo P3\n",
        "UTILIZANDO DECORADORES\n",
        "-@property\n",
        "-@atributo.setter"
      ]
    },
    {
      "cell_type": "code",
      "metadata": {
        "id": "rjSX20hrIS54",
        "outputId": "f16643eb-ac09-409f-e1eb-84ade5dd715b",
        "colab": {
          "base_uri": "https://localhost:8080/",
          "height": 106
        }
      },
      "source": [
        "class Computadora:\n",
        "    def __init__( self , m , p):\n",
        "        self.marca = m #se manda llamar el decorador @property\n",
        "        self.procesador = p #idem\n",
        "\n",
        "    @property   #declara como atrib priv y funciona como metodo get\n",
        "    def marca( self ):\n",
        "      return self.__marca\n",
        "\n",
        "    @marca.setter\n",
        "    def marca( self , m ):\n",
        "      print(\"En el setter de marca\")\n",
        "      self.__marca = m \n",
        "\n",
        "    @property\n",
        "    def procesador( self ):\n",
        "      return self.__procesador\n",
        "\n",
        "    @procesador.setter\n",
        "    def procesador( self , p ):\n",
        "      print(\"En el metodo set de procesador\")\n",
        "      self.__procesador = p \n",
        "\n",
        "    def to_string( self ):\n",
        "      return \"marca\" + self.marca + \"Procesador:\"+ self.procesador\n",
        "\n",
        "mi_pc2 = Computadora(\"Mac Book pro\", \"Intel i7\")\n",
        "print( mi_pc2.to_string() )\n",
        "mi_pc2.marca = \"Dell\"\n",
        "print( mi_pc2.to_string() )"
      ],
      "execution_count": 15,
      "outputs": [
        {
          "output_type": "stream",
          "text": [
            "En el setter de marca\n",
            "En el metodo set de procesador\n",
            "marcaMac Book proProcesador:Intel i7\n",
            "En el setter de marca\n",
            "marcaDellProcesador:Intel i7\n"
          ],
          "name": "stdout"
        }
      ]
    },
    {
      "cell_type": "code",
      "metadata": {
        "id": "S74JPQ1PQjt0",
        "outputId": "5fc6dc31-abbc-4a7f-cf40-8280ea017274",
        "colab": {
          "base_uri": "https://localhost:8080/",
          "height": 88
        }
      },
      "source": [
        "# Herencia , pasando la clase base a la declaracion\n",
        "class ServidorEmpresarial ( Computadora ):\n",
        "  def __init__( self ):\n",
        "    print(\"Hola servidor\")\n",
        "server = ServidorEmpresarial()\n",
        "server.marca = \"Sun micro Systems\"\n",
        "server.procesador = \"Intel i7\"\n",
        "print(server.to_string() )"
      ],
      "execution_count": 16,
      "outputs": [
        {
          "output_type": "stream",
          "text": [
            "Hola servidor\n",
            "En el setter de marca\n",
            "En el metodo set de procesador\n",
            "marcaSun micro SystemsProcesador:Intel i7\n"
          ],
          "name": "stdout"
        }
      ]
    }
  ]
}