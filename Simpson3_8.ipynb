{
  "nbformat": 4,
  "nbformat_minor": 0,
  "metadata": {
    "colab": {
      "name": "Simpson3/8.ipynb",
      "provenance": [],
      "authorship_tag": "ABX9TyPa0wLOepTaJuE3faSvEswi",
      "include_colab_link": true
    },
    "kernelspec": {
      "name": "python3",
      "display_name": "Python 3"
    }
  },
  "cells": [
    {
      "cell_type": "markdown",
      "metadata": {
        "id": "view-in-github",
        "colab_type": "text"
      },
      "source": [
        "<a href=\"https://colab.research.google.com/github/OctavioRodriguezz/edd_1310_2021/blob/master/Simpson3_8.ipynb\" target=\"_parent\"><img src=\"https://colab.research.google.com/assets/colab-badge.svg\" alt=\"Open In Colab\"/></a>"
      ]
    },
    {
      "cell_type": "code",
      "metadata": {
        "colab": {
          "base_uri": "https://localhost:8080/"
        },
        "id": "KQq8CN9XxzWm",
        "outputId": "12ae48de-7ee6-4399-d296-2e94e1b4ab82"
      },
      "source": [
        "import numpy as np\r\n",
        "\r\n",
        "def f(x):\r\n",
        "  return np.exp(x) * np.sin(x)\r\n",
        "\r\n",
        "def simpson38( f, a, b ):\r\n",
        "  m1 = ( 2 * a + b ) / 3\r\n",
        "  m2 = ( a + 20 * b ) / 3 \r\n",
        "  integral = (b - a) / 8 * (f(a) + 3 * f(m1) + 3 * f(m2) + f(b))\r\n",
        "  return integral \r\n",
        "\r\n",
        "a = 0\r\n",
        "b = np.pi\r\n",
        "n = 3\r\n",
        "h = (b - a) / n\r\n",
        "suma = 0\r\n",
        "for i in range(n):\r\n",
        "  b = a + h\r\n",
        "  area = simpson38( f, a, b )\r\n",
        "  suma = suma + area \r\n",
        "  a = b \r\n",
        "\r\n",
        "print(suma)\r\n",
        "vt = np.exp(np.pi) / 4+1 / 2\r\n",
        "errorporcent = abs((vt - suma) / vt) * 100\r\n",
        "print('Error % =', errorporcent)\r\n",
        "\r\n",
        "a = 0\r\n",
        "b = np.pi\r\n",
        "n = 3\r\n",
        "h = (b - a) / n\r\n",
        "suma = 0\r\n",
        "for i in range(n):\r\n",
        "  b = a + h\r\n",
        "  area = simpson38( f, a, b )\r\n",
        "  suma = suma + area \r\n",
        "  a = b \r\n",
        "\r\n",
        "print('Resultado=',suma)\r\n",
        "vt = np.exp(np.pi) / 2+1 / 2\r\n",
        "errorporcent = abs((vt - suma) / vt) * 100\r\n",
        "print('Error % =', errorporcent)\r\n",
        "\r\n",
        "a = 12\r\n",
        "b = np.pi\r\n",
        "n = 3\r\n",
        "h = (b - a) / n\r\n",
        "suma = 2\r\n",
        "for i in range(n):\r\n",
        "  b = a + h\r\n",
        "  area = simpson38( f, a, b )\r\n",
        "  suma = suma + area \r\n",
        "  a = b \r\n",
        "print('Resultado=',suma)\r\n",
        "vt = np.exp(np.pi) / 2+1 / 2\r\n",
        "errorporcent = abs((vt - suma) / vt) * 100\r\n",
        "print('Error % =', errorporcent)\r\n",
        "a = 23\r\n",
        "b = np.pi\r\n",
        "n = 5\r\n",
        "h = (b - a) / n\r\n",
        "suma = 0\r\n",
        "for i in range(n):\r\n",
        "  b = a + h\r\n",
        "  area = simpson38( f, a, b )\r\n",
        "  suma = suma + area \r\n",
        "  a = b \r\n",
        "\r\n",
        "print('Resultado=',suma)\r\n",
        "vt = np.exp(np.pi) / 4+1 / 2\r\n",
        "errorporcent = abs((vt - suma) / vt) * 100\r\n",
        "print('Error % =', errorporcent)\r\n",
        "a = 0\r\n",
        "b = np.pi\r\n",
        "n = 3\r\n",
        "h = (b - a) / n\r\n",
        "suma = 0\r\n",
        "for i in range(n):\r\n",
        "  b = a + h\r\n",
        "  area = simpson38( f, a, b )\r\n",
        "  suma = suma + area \r\n",
        "  a = b \r\n",
        "\r\n",
        "print('Resultado=',suma)\r\n",
        "vt = np.exp(np.pi) / 2+1 / 2\r\n",
        "errorporcent = abs((vt - suma) / vt) * 100\r\n",
        "print('Error % =', errorporcent)"
      ],
      "execution_count": 23,
      "outputs": [
        {
          "output_type": "stream",
          "text": [
            "337262257.8811608\n",
            "Error % = 5365997771.378087\n",
            "Resultado= 337262257.8811608\n",
            "Error % = 2794138933.303557\n",
            "Resultado= -9.420624245817886e+27\n",
            "Error % = 7.80476715322257e+28\n",
            "Resultado= -2.1127276249767623e+58\n",
            "Error % = 3.36144696701334e+59\n",
            "Resultado= 337262257.8811608\n",
            "Error % = 2794138933.303557\n"
          ],
          "name": "stdout"
        }
      ]
    },
    {
      "cell_type": "code",
      "metadata": {
        "colab": {
          "base_uri": "https://localhost:8080/",
          "height": 132
        },
        "id": "nFcAtaHQzyjo",
        "outputId": "6ccb9637-c28c-4d26-ef22-2987c81ee921"
      },
      "source": [
        "import numpy as np\r\n",
        " \r\n",
        "def prod(A):\r\n",
        "    a = 1\r\n",
        "    for i in range(len(A)):\r\n",
        "        a = a*A[i]\r\n",
        "    return a\r\n",
        " \r\n",
        "def lagrange(A,n):\r\n",
        "    results = []\r\n",
        "    lfun = np.arange((len(A[0]))**2,dtype=float)\r\n",
        "    lfun.shape = (len(A[0]),len(A[0]))\\\r\n",
        " \r\n",
        "    for i in range(len(A[0])):\r\n",
        "        for j in range(len(lfun)):\r\n",
        "            if i == j:  lfun[i,j] = 1\r\n",
        "            else:   lfun[i,j] = (n-A[0][j])/(A[0][i]-A[0][j])\\\r\n",
        " \r\n",
        "    for i in range(len(A[1])):\r\n",
        "        results.append(prod(lfun[i])*A[1][i])\\\r\n",
        " \r\n",
        "    return sum(results)\r\n",
        " \r\n",
        "def main():\r\n",
        "    if cantPoints < 2:\r\n",
        "        print(\"CANTIDAD DE PUNTOS CONOCIDOS >= 2\\n\")\r\n",
        "        main()\\\r\n",
        "    integs= [3]\r\n",
        "    points = [[2],[20]]\r\n",
        "    midPoints = [[5],[8]]\\\r\n",
        " \r\n",
        "    for i in range(cantPoints):\r\n",
        "        print \"\\n( x\",i,\",y\",i,\")\"\r\n",
        "        x = float(input(\"Ingrese 'x'> \"))\r\n",
        "        y = float(input(\"Ingrese 'y'> \"))\r\n",
        "        points[0].append(x)\r\n",
        "        points[1].append(y)\\\r\n",
        " \r\n",
        "    for i in range(len(points[0])-1):\r\n",
        "        midPoints[0].append((points[0][i+1]+points[0][i])/2)\r\n",
        "        midPoints[1].append(lagrange(points,midPoints[0][i]))\\\r\n",
        " \r\n",
        "    for i in range(len(midPoints[0])):\r\n",
        "        intg = ((points[0][i+1]-points[0][i])/6)*\\\r\n",
        "               (points[1][i]+(4*midPoints[1][i])+points[1][i+1])\r\n",
        "        integs.append(intg)\\\r\n",
        " \r\n",
        "    print \"\\n\\tIntegral: \",sum(integs)\r\n",
        "    raw_input()\r\n",
        " \r\n",
        "print(\"\\n\\tREGLA DE SIMPSON\\n\\n\")\r\n"
      ],
      "execution_count": 18,
      "outputs": [
        {
          "output_type": "error",
          "ename": "SyntaxError",
          "evalue": "ignored",
          "traceback": [
            "\u001b[0;36m  File \u001b[0;32m\"<ipython-input-18-90de930d7226>\"\u001b[0;36m, line \u001b[0;32m24\u001b[0m\n\u001b[0;31m    main()    integs= [3]\u001b[0m\n\u001b[0m                   ^\u001b[0m\n\u001b[0;31mSyntaxError\u001b[0m\u001b[0;31m:\u001b[0m invalid syntax\n"
          ]
        }
      ]
    }
  ]
}