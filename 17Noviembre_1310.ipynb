{
  "nbformat": 4,
  "nbformat_minor": 0,
  "metadata": {
    "colab": {
      "name": "17Noviembre_1310.ipynb",
      "provenance": [],
      "authorship_tag": "ABX9TyNKgngFjMMGFMUBJv4w92hN",
      "include_colab_link": true
    },
    "kernelspec": {
      "name": "python3",
      "display_name": "Python 3"
    }
  },
  "cells": [
    {
      "cell_type": "markdown",
      "metadata": {
        "id": "view-in-github",
        "colab_type": "text"
      },
      "source": [
        "<a href=\"https://colab.research.google.com/github/OctavioRodriguezz/edd_1310_2021/blob/master/17Noviembre_1310.ipynb\" target=\"_parent\"><img src=\"https://colab.research.google.com/assets/colab-badge.svg\" alt=\"Open In Colab\"/></a>"
      ]
    },
    {
      "cell_type": "code",
      "metadata": {
        "id": "xlRQFJuZJ1z0"
      },
      "source": [
        "class Nodo:\n",
        "  def __init__( self , value , siguiente= None): \n",
        "    self.data = value \n",
        "    self.siguiente = siguiente \n",
        "\n",
        "class LinkedList:\n",
        "  def __init__( self ):\n",
        "    self.__head = None\n",
        "\n",
        "  def is_empty( self ):\n",
        "    return self.__head == None\n",
        "\n",
        "  def append( self , value ):\n",
        "    nuevo = Nodo( value )\n",
        "    if self.__head == None:\n",
        "      self.__heaad = nuevo\n",
        "      else:\n",
        "        curr_node = self.__head\n",
        "        while curr_node.siguiente != None:\n",
        "          curr_node = curr_node.siguiente\n",
        "        curr_node.siguiente = nuevo\n",
        "    def transversal( self ):\n",
        "      curr_node = self.__head\n",
        "        while curr_node != None:\n",
        "            print(f\" { curr_node.data } -> \" , end=\"\")\n",
        "            curr_node = curr_node.siguiente\n",
        "        print(\" \")\n",
        "\n",
        "    def remove( self , value ):\n",
        "        curr_node = self.__head\n",
        "        while curr_node.data != value and curr_node.siguiente != None:\n",
        "            curr_node= curr_node.siguiente\n",
        "        if curr_node.data == value:\n",
        "     \n"
      ],
      "execution_count": 1,
      "outputs": []
    },
    {
      "cell_type": "code",
      "metadata": {
        "id": "EgqhdPtOXrVs"
      },
      "source": [
        "from listas import LinkedList\n",
        "\n",
        "l = LinkedList()\n",
        "print(f\"L esta vacia ? { l.is_empty() } \")\n",
        "l.append(10)\n",
        "l.append(5)\n",
        "l.append(6)\n",
        "l.append(20)\n",
        "print(f\"L esta vacia ? { l.is_empty() } \")\n"
      ],
      "execution_count": null,
      "outputs": []
    }
  ]
}