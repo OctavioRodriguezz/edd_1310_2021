{
  "nbformat": 4,
  "nbformat_minor": 0,
  "metadata": {
    "colab": {
      "name": "3Diciembre_1310.ipynb",
      "provenance": [],
      "authorship_tag": "ABX9TyO5ubJ1sfC9jv1rC3kdL+4L",
      "include_colab_link": true
    },
    "kernelspec": {
      "name": "python3",
      "display_name": "Python 3"
    }
  },
  "cells": [
    {
      "cell_type": "markdown",
      "metadata": {
        "id": "view-in-github",
        "colab_type": "text"
      },
      "source": [
        "<a href=\"https://colab.research.google.com/github/OctavioRodriguezz/edd_1310_2021/blob/master/3Diciembre_1310.ipynb\" target=\"_parent\"><img src=\"https://colab.research.google.com/assets/colab-badge.svg\" alt=\"Open In Colab\"/></a>"
      ]
    },
    {
      "cell_type": "code",
      "metadata": {
        "id": "SkmFtdxSg8OX"
      },
      "source": [
        "\"\"\"\n",
        "Array2D\n",
        "\"\"\"\n",
        "class Array2D:\n",
        "\n",
        "    def __init__(self,rows, cols, value):\n",
        "        self.__cols = cols\n",
        "        self.__rows = rows\n",
        "        self.__array=[[value for x in range(self.__cols)] for y in range(self.__rows)]\n",
        "\n",
        "    def to_string(self):\n",
        "        [print(\"---\",end=\"\") for x in range(self.__cols)]\n",
        "        print(\"\")\n",
        "        for ren in self.__array:\n",
        "            print(ren)\n",
        "        [print(\"---\",end=\"\") for x in range(self.__cols)]\n",
        "        print(\"\")\n",
        "\n",
        "    def get_num_rows(self):\n",
        "        return self.__rows\n",
        "\n",
        "    def get_num_cols(self):\n",
        "        return self.__cols\n",
        "\n",
        "    def get_item(self,row,col):\n",
        "        return self.__array[row][col]\n",
        "\n",
        "    def set_item( self , row , col , valor ):\n",
        "        self.__array[row][col]=valor\n",
        "\n",
        "    def clearing(self, valor=0):\n",
        "        for ren in range(self.__rows):\n",
        "            for col in range(self.__cols):\n",
        "                self.__array[ren][col]=valor"
      ],
      "execution_count": null,
      "outputs": []
    },
    {
      "cell_type": "code",
      "metadata": {
        "id": "vwZoXNFXmR9-"
      },
      "source": [
        "# BACKTRACKING\n",
        "from array_2D import array_2D\n",
        "\n",
        "\n",
        "class laberintoADT:\n",
        "\n",
        "  \"\"\" \n",
        "  0=pasillo 1=pared E=entrada S=salida \n",
        "  pasiilo es una tupla ((2,1),(2,2),(2,3),(2,4),(3,2),(4,2))\n",
        "  \"\"\"\n",
        "  def __init__( self , rens , cols , pasillos  ):\n",
        "    self.__laberinto = array_2D( rens , cols , '1')\n",
        "    for pasillo in pasillos:\n",
        "      self.__laberitno.set_item( pasilo[0] , pasillo[1] , '0')\n",
        "    self.set_entrada(entrada[0],entrada[1])\n",
        "    self.set_salida(salida[0],salida[1])\n",
        "    self.__camino = Stack()\n",
        "    self.__previa = None\n",
        "\n",
        "  def to_string( self ):\n",
        "    self.__laberitno.to_string() \n",
        "\n",
        "  \"\"\"\n",
        "  estabece la entrada E en la matrzi, verificsr limites perifericos\n",
        "  \"\"\"\n",
        "\n",
        "  def set_entrada( self , ren , col ):\n",
        "     # terminar la validacion de las coordenadas\n",
        "    self.__laberinto.set_item( ren , col , 'E' )\n",
        "\n",
        "  \"\"\"\n",
        "  establecer salida, edentro de los limites perifericos de la matriz\n",
        "  \"\"\"\n",
        "  def set_salida( self , ren , col ):\n",
        "     #terminar las validaciones\n",
        "    self.__laberinto.set_item( ren , col , 'S' )\n",
        "\n",
        "  def es_salida( self , ren , col ):\n",
        "    return self.__laberinto.get_item(ren,col) == 'S'\n",
        "\n",
        "  def buscar_entrada( self ):\n",
        "    encontrado = False\n",
        "    for renglon in range(self.__laberinto.get_num_rows() ):\n",
        "      for columna in range( self.__laberinto._get_num_cols() ):\n",
        "        if self.__laberinto.get_item(tope[0],tope[1]) == 'E':\n",
        "            self.__camino.push( tulpe(renglon,columna) )\n",
        "            encontrado = True\n",
        "    return encontrado\n",
        "\n",
        "\n",
        "  def set_previa( self , pos_previa ):\n",
        "    self.__previa = pos_previa \n",
        "\n",
        "  def get_previa( self ):\n",
        "    return self.__previa\n",
        "\n",
        "  def resolver_laberinto( self ):\n",
        "    #aplicar regalas \n",
        "\n",
        "\n"
      ],
      "execution_count": null,
      "outputs": []
    },
    {
      "cell_type": "code",
      "metadata": {
        "id": "ypfSPfHIsI_G"
      },
      "source": [
        "from bktracking import laberintoADT \n",
        "pasillos_inicial = ((2,1),(2,2),(2,3),(2,4),(3,2),(4,2))\n",
        "lab = laberintoADT( 6 , 6 , pasillos_inicial , (5,2) , (2,5) )\n",
        "lab.to_string()"
      ],
      "execution_count": null,
      "outputs": []
    }
  ]
}