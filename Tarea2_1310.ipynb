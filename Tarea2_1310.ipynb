{
  "nbformat": 4,
  "nbformat_minor": 0,
  "metadata": {
    "colab": {
      "name": "Tarea2_1310.ipynb",
      "provenance": [],
      "authorship_tag": "ABX9TyMAoa3FzwAV7mkJ2fmGdS2x",
      "include_colab_link": true
    },
    "kernelspec": {
      "name": "python3",
      "display_name": "Python 3"
    }
  },
  "cells": [
    {
      "cell_type": "markdown",
      "metadata": {
        "id": "view-in-github",
        "colab_type": "text"
      },
      "source": [
        "<a href=\"https://colab.research.google.com/github/OctavioRodriguezz/edd_1310_2021/blob/master/Tarea2_1310.ipynb\" target=\"_parent\"><img src=\"https://colab.research.google.com/assets/colab-badge.svg\" alt=\"Open In Colab\"/></a>"
      ]
    },
    {
      "cell_type": "code",
      "metadata": {
        "id": "pRmtoa-01RBd",
        "outputId": "e5847cf6-3d10-4c47-9024-9ea83c5bc826",
        "colab": {
          "base_uri": "https://localhost:8080/",
          "height": 212
        }
      },
      "source": [
        "def suma(result):\n",
        "  suma = 0\n",
        "  for c in result:\n",
        "     if c.isdigit():\n",
        "       suma += int(c)\n",
        "  return suma\n",
        "\n",
        "archivo = open(\"Datos.txt\",'r+')\n",
        "linea = 1\n",
        "while (linea < 20):\n",
        "    leer_linea = archivo.readline()\n",
        "  \n",
        "    resultado_fila = [x.strip() for x in leer_linea.split(',')] \n",
        "    print(f\"Suma linea  {linea}:  {suma(resultado_fila)}\")\n",
        "    linea = linea + 2\n",
        "    leer_linea = archivo.readline()\n",
        "\n",
        "\n",
        "def suma_todo():\n",
        "  archivo2 = open(\"Datos.txt\",\"r+\")\n",
        "  leer_archivo = archivo2.read()\n",
        "  suma_total = [x.strip() for x in leer_archivo.split(',')]\n",
        "  print(f\"La suma de todo es:  {suma(suma_total)} \")\n",
        "  archivo2.close()\n",
        "archivo.close()\n",
        "suma_todo()"
      ],
      "execution_count": 13,
      "outputs": [
        {
          "output_type": "stream",
          "text": [
            "Suma linea  1:  406\n",
            "Suma linea  3:  367\n",
            "Suma linea  5:  814\n",
            "Suma linea  7:  387\n",
            "Suma linea  9:  786\n",
            "Suma linea  11:  513\n",
            "Suma linea  13:  745\n",
            "Suma linea  15:  585\n",
            "Suma linea  17:  154\n",
            "Suma linea  19:  220\n",
            "La suma de todo es:  4607 \n"
          ],
          "name": "stdout"
        }
      ]
    }
  ]
}