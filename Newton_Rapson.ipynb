{
  "nbformat": 4,
  "nbformat_minor": 0,
  "metadata": {
    "colab": {
      "name": "Newton-Rapson.ipynb",
      "provenance": [],
      "authorship_tag": "ABX9TyMfdkVVoIi9OqMEbJwWXddN",
      "include_colab_link": true
    },
    "kernelspec": {
      "name": "python3",
      "display_name": "Python 3"
    }
  },
  "cells": [
    {
      "cell_type": "markdown",
      "metadata": {
        "id": "view-in-github",
        "colab_type": "text"
      },
      "source": [
        "<a href=\"https://colab.research.google.com/github/OctavioRodriguezz/edd_1310_2021/blob/master/Newton_Rapson.ipynb\" target=\"_parent\"><img src=\"https://colab.research.google.com/assets/colab-badge.svg\" alt=\"Open In Colab\"/></a>"
      ]
    },
    {
      "cell_type": "code",
      "metadata": {
        "id": "N1UcVdQbwUb2"
      },
      "source": [
        "\n",
        "\n",
        "\n",
        "import numpy as np\n",
        "import matplotlib.pyplot as plt\n",
        "\n",
        "x = np.linspace(-5, 5, 100 )\n",
        "plt.plot(x, x**3 - np.cos(x))\n",
        "plt.grid()\n",
        "plt.show()"
      ],
      "execution_count": null,
      "outputs": []
    },
    {
      "cell_type": "code",
      "metadata": {
        "id": "kuAuRTADOmZp"
      },
      "source": [
        "def fx(x):\n",
        "  f = -2*x**4 + 6*x**3 - 12*x+3 \n",
        "  return f\n",
        "\n",
        "def Dfx(x):\n",
        "  deriv_f = -8*x**3 + 18*x**2 - 12\n",
        "  if deriv_f == 0 :\n",
        "    print(\"Dfx = 0\")\n",
        "    exit()\n",
        "  return deriv_f \n",
        "\n",
        "xi = 1.00\n",
        "error_tol = 0.001\n",
        "error_rel = 10.0\n",
        "fxi = fx(xi)  \n",
        "Dfxi = Dfx(xi)\n",
        "xsol = xi - fxi / Dfxi\n",
        "\n",
        "niter = 1\n",
        "print(\"{:^5} {:^15} {:^15} {:^15} {:^15} {:^15} \".format(\"Iter\",\"xi\",\"f(xi)\",\"f'(xi)\",\"xsol\",\"error_rel\") )\n",
        "print(\"{:^5d} {:^15.6f} {:^15.6f} {:^15.6f} {:^15.10f} {:^15.5f} \".format(niter, xi,  fxi,  Dfxi,  xsol,  error_rel) )\n",
        "\n",
        "while(error_rel >= error_tol):\n",
        "    xi = xsol\n",
        "    fxi = fx(xi)  \n",
        "    Dfxi = Dfx(xi)\n",
        "    xsol = xi - fxi / Dfxi\n",
        "    error_rel = abs( (xsol- xi) / xsol ) * 100\n",
        "\n",
        "    print(\"{:^5d} {:^15.6f} {:^15.6f} {:^15.6f} {:^15.10f} {:^15.5f} \".format(niter, xi,  fxi,  Dfxi,  xsol,  error_rel) )\n",
        "\n",
        "print(f\" xsol ={xsol}\") "
      ],
      "execution_count": null,
      "outputs": []
    },
    {
      "cell_type": "code",
      "metadata": {
        "id": "XcEXpT8hY924"
      },
      "source": [
        "\n",
        "def fx(x):\n",
        "  f = x**3 + 4*x**2 + 12*x - 3\n",
        "  return f\n",
        "\n",
        "def Dfx(x):\n",
        "  deriv_f = 3*x**2 + 8*x + 12\n",
        "  if deriv_f == 0 :\n",
        "    print(\"Dfx = 0\")\n",
        "    exit()\n",
        "  return deriv_f \n",
        "\n",
        "xi = 0.23\n",
        "error_tol = 0.001\n",
        "error_rel = 10.0\n",
        "fxi = fx(xi)  \n",
        "Dfxi = Dfx(xi)\n",
        "xsol = xi - fxi / Dfxi\n",
        "\n",
        "niter = 1\n",
        "print(\"{:^5} {:^15} {:^15} {:^15} {:^15} {:^15} \".format(\"Iter\",\"xi\",\"f(xi)\",\"f'(xi)\",\"xsol\",\"error_rel\") )\n",
        "print(\"{:^5d} {:^15.6f} {:^15.6f} {:^15.6f} {:^15.10f} {:^15.5f} \".format(niter, xi,  fxi,  Dfxi,  xsol,  error_rel) )\n",
        "\n",
        "while(error_rel >= error_tol):\n",
        "    xi = xsol\n",
        "    fxi = fx(xi)  \n",
        "    Dfxi = Dfx(xi)\n",
        "    xsol = xi - fxi / Dfxi\n",
        "    error_rel = abs( (xsol- xi) / xsol ) * 100\n",
        "\n",
        "    print(\"{:^5d} {:^15.6f} {:^15.6f} {:^15.6f} {:^15.10f} {:^15.5f} \".format(niter, xi,  fxi,  Dfxi,  xsol,  error_rel) )\n",
        "\n",
        "print(f\" xsol ={xsol}\") "
      ],
      "execution_count": null,
      "outputs": []
    },
    {
      "cell_type": "code",
      "metadata": {
        "id": "qMW0-0MJbhKI"
      },
      "source": [
        "import math\n",
        "def fx(x):\n",
        "  f = 3*x + 5*sin(x-2)\n",
        "  return f\n",
        "\n",
        "def Dfx(x):\n",
        "  deriv_f = 5*cos(x-2) + 3 \n",
        "  if deriv_f == 0 :\n",
        "    print(\"Dfx = 0\")\n",
        "    exit()\n",
        "  return deriv_f \n",
        "\n",
        "xi = 4.20\n",
        "error_tol = 0.001\n",
        "error_rel = 10.0\n",
        "fxi = fx(xi)  \n",
        "Dfxi = Dfx(xi)\n",
        "xsol = xi - fxi / Dfxi\n",
        "\n",
        "niter = 1\n",
        "print(\"{:^5} {:^15} {:^15} {:^15} {:^15} {:^15} \".format(\"Iter\",\"xi\",\"f(xi)\",\"f'(xi)\",\"xsol\",\"error_rel\") )\n",
        "print(\"{:^5d} {:^15.6f} {:^15.6f} {:^15.6f} {:^15.10f} {:^15.5f} \".format(niter, xi,  fxi,  Dfxi,  xsol,  error_rel) )\n",
        "\n",
        "while(error_rel >= error_tol):\n",
        "    xi = xsol\n",
        "    fxi = fx(xi)  \n",
        "    Dfxi = Dfx(xi)\n",
        "    xsol = xi - fxi / Dfxi\n",
        "    error_rel = abs( (xsol- xi) / xsol ) * 100\n",
        "\n",
        "    print(\"{:^5d} {:^15.6f} {:^15.6f} {:^15.6f} {:^15.10f} {:^15.5f} \".format(niter, xi,  fxi,  Dfxi,  xsol,  error_rel) )\n",
        "\n",
        "print(f\" xsol ={xsol}\") "
      ],
      "execution_count": null,
      "outputs": []
    },
    {
      "cell_type": "code",
      "metadata": {
        "id": "kliJUeOXb-OX",
        "outputId": "2f5558cc-3ac8-44f0-ae8e-31e52c63ceba",
        "colab": {
          "base_uri": "https://localhost:8080/",
          "height": 364
        }
      },
      "source": [
        "import math\n",
        "def fx(x):\n",
        "  f = 5*x + 6*log(x+3)\n",
        "  return f\n",
        "\n",
        "def Dfx(x):\n",
        "  deriv_f = 6 / (x+3) + 5\n",
        "  if deriv_f == 0 :\n",
        "    print(\"Dfx = 0\")\n",
        "    exit()\n",
        "  return deriv_f \n",
        "\n",
        "xi = 0\n",
        "error_tol = 0.001\n",
        "error_rel = 10.0\n",
        "fxi = fx(xi)  \n",
        "Dfxi = Dfx(xi)\n",
        "xsol = xi - fxi / Dfxi\n",
        "\n",
        "niter = 1\n",
        "print(\"{:^5} {:^15} {:^15} {:^15} {:^15} {:^15} \".format(\"Iter\",\"xi\",\"f(xi)\",\"f'(xi)\",\"xsol\",\"error_rel\") )\n",
        "print(\"{:^5d} {:^15.6f} {:^15.6f} {:^15.6f} {:^15.10f} {:^15.5f} \".format(niter, xi,  fxi,  Dfxi,  xsol,  error_rel) )\n",
        "\n",
        "while(error_rel >= error_tol):\n",
        "    xi = xsol\n",
        "    fxi = fx(xi)  \n",
        "    Dfxi = Dfx(xi)\n",
        "    xsol = xi - fxi / Dfxi\n",
        "    error_rel = abs( (xsol- xi) / xsol ) * 100\n",
        "\n",
        "    print(\"{:^5d} {:^15.6f} {:^15.6f} {:^15.6f} {:^15.10f} {:^15.5f} \".format(niter, xi,  fxi,  Dfxi,  xsol,  error_rel) )\n",
        "\n",
        "print(f\" xsol ={xsol}\") "
      ],
      "execution_count": 19,
      "outputs": [
        {
          "output_type": "error",
          "ename": "NameError",
          "evalue": "ignored",
          "traceback": [
            "\u001b[0;31m---------------------------------------------------------------------------\u001b[0m",
            "\u001b[0;31mNameError\u001b[0m                                 Traceback (most recent call last)",
            "\u001b[0;32m<ipython-input-19-f7e50a3dc5d6>\u001b[0m in \u001b[0;36m<module>\u001b[0;34m()\u001b[0m\n\u001b[1;32m     14\u001b[0m \u001b[0merror_tol\u001b[0m \u001b[0;34m=\u001b[0m \u001b[0;36m0.001\u001b[0m\u001b[0;34m\u001b[0m\u001b[0;34m\u001b[0m\u001b[0m\n\u001b[1;32m     15\u001b[0m \u001b[0merror_rel\u001b[0m \u001b[0;34m=\u001b[0m \u001b[0;36m10.0\u001b[0m\u001b[0;34m\u001b[0m\u001b[0;34m\u001b[0m\u001b[0m\n\u001b[0;32m---> 16\u001b[0;31m \u001b[0mfxi\u001b[0m \u001b[0;34m=\u001b[0m \u001b[0mfx\u001b[0m\u001b[0;34m(\u001b[0m\u001b[0mxi\u001b[0m\u001b[0;34m)\u001b[0m\u001b[0;34m\u001b[0m\u001b[0;34m\u001b[0m\u001b[0m\n\u001b[0m\u001b[1;32m     17\u001b[0m \u001b[0mDfxi\u001b[0m \u001b[0;34m=\u001b[0m \u001b[0mDfx\u001b[0m\u001b[0;34m(\u001b[0m\u001b[0mxi\u001b[0m\u001b[0;34m)\u001b[0m\u001b[0;34m\u001b[0m\u001b[0;34m\u001b[0m\u001b[0m\n\u001b[1;32m     18\u001b[0m \u001b[0mxsol\u001b[0m \u001b[0;34m=\u001b[0m \u001b[0mxi\u001b[0m \u001b[0;34m-\u001b[0m \u001b[0mfxi\u001b[0m \u001b[0;34m/\u001b[0m \u001b[0mDfxi\u001b[0m\u001b[0;34m\u001b[0m\u001b[0;34m\u001b[0m\u001b[0m\n",
            "\u001b[0;32m<ipython-input-19-f7e50a3dc5d6>\u001b[0m in \u001b[0;36mfx\u001b[0;34m(x)\u001b[0m\n\u001b[1;32m      1\u001b[0m \u001b[0;32mimport\u001b[0m \u001b[0mmath\u001b[0m\u001b[0;34m\u001b[0m\u001b[0;34m\u001b[0m\u001b[0m\n\u001b[1;32m      2\u001b[0m \u001b[0;32mdef\u001b[0m \u001b[0mfx\u001b[0m\u001b[0;34m(\u001b[0m\u001b[0mx\u001b[0m\u001b[0;34m)\u001b[0m\u001b[0;34m:\u001b[0m\u001b[0;34m\u001b[0m\u001b[0;34m\u001b[0m\u001b[0m\n\u001b[0;32m----> 3\u001b[0;31m   \u001b[0mf\u001b[0m \u001b[0;34m=\u001b[0m \u001b[0;36m5\u001b[0m\u001b[0;34m*\u001b[0m\u001b[0mx\u001b[0m \u001b[0;34m+\u001b[0m \u001b[0;36m6\u001b[0m\u001b[0;34m*\u001b[0m\u001b[0mlog\u001b[0m\u001b[0;34m(\u001b[0m\u001b[0mx\u001b[0m\u001b[0;34m+\u001b[0m\u001b[0;36m3\u001b[0m\u001b[0;34m)\u001b[0m\u001b[0;34m\u001b[0m\u001b[0;34m\u001b[0m\u001b[0m\n\u001b[0m\u001b[1;32m      4\u001b[0m   \u001b[0;32mreturn\u001b[0m \u001b[0mf\u001b[0m\u001b[0;34m\u001b[0m\u001b[0;34m\u001b[0m\u001b[0m\n\u001b[1;32m      5\u001b[0m \u001b[0;34m\u001b[0m\u001b[0m\n",
            "\u001b[0;31mNameError\u001b[0m: name 'log' is not defined"
          ]
        }
      ]
    }
  ]
}