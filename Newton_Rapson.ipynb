{
  "nbformat": 4,
  "nbformat_minor": 0,
  "metadata": {
    "colab": {
      "name": "Newton-Rapson.ipynb",
      "provenance": [],
      "authorship_tag": "ABX9TyNtHVXe+Qm+A8FVgpw2qWUa",
      "include_colab_link": true
    },
    "kernelspec": {
      "name": "python3",
      "display_name": "Python 3"
    }
  },
  "cells": [
    {
      "cell_type": "markdown",
      "metadata": {
        "id": "view-in-github",
        "colab_type": "text"
      },
      "source": [
        "<a href=\"https://colab.research.google.com/github/OctavioRodriguezz/edd_1310_2021/blob/master/Newton_Rapson.ipynb\" target=\"_parent\"><img src=\"https://colab.research.google.com/assets/colab-badge.svg\" alt=\"Open In Colab\"/></a>"
      ]
    },
    {
      "cell_type": "code",
      "metadata": {
        "id": "N1UcVdQbwUb2"
      },
      "source": [
        "\n",
        "\n",
        "\n",
        "import numpy as np\n",
        "import matplotlib.pyplot as plt\n",
        "\n",
        "x = np.linspace(-5, 5, 100 )\n",
        "plt.plot(x, x**3 - np.cos(x))\n",
        "plt.grid()\n",
        "plt.show()"
      ],
      "execution_count": null,
      "outputs": []
    },
    {
      "cell_type": "code",
      "metadata": {
        "id": "kuAuRTADOmZp",
        "outputId": "d4528b22-ebbf-4193-e19b-5b95e579c720",
        "colab": {
          "base_uri": "https://localhost:8080/",
          "height": 141
        }
      },
      "source": [
        "def fx(x):\n",
        "  f = -2*x**4 + 6*x**3 - 12*x+3 \n",
        "  return f\n",
        "\n",
        "def Dfx(x):\n",
        "  deriv_f = -8*x**3 + 18*x**2 - 12\n",
        "  if deriv_f == 0 :\n",
        "    print(\"Dfx = 0\")\n",
        "    exit()\n",
        "  return deriv_f \n",
        "\n",
        "xi = 1.00\n",
        "error_tol = 0.001\n",
        "error_rel = 10.0\n",
        "fxi = fx(xi)  \n",
        "Dfxi = Dfx(xi)\n",
        "xsol = xi - fxi / Dfxi\n",
        "\n",
        "niter = 1\n",
        "print(\"{:^5} {:^15} {:^15} {:^15} {:^15} {:^15} \".format(\"Iter\",\"xi\",\"f(xi)\",\"f'(xi)\",\"xsol\",\"error_rel\") )\n",
        "print(\"{:^5d} {:^15.6f} {:^15.6f} {:^15.6f} {:^15.10f} {:^15.5f} \".format(niter, xi,  fxi,  Dfxi,  xsol,  error_rel) )\n",
        "\n",
        "while(error_rel >= error_tol):\n",
        "    xi = xsol\n",
        "    fxi = fx(xi)  \n",
        "    Dfxi = Dfx(xi)\n",
        "    xsol = xi - fxi / Dfxi\n",
        "    error_rel = abs( (xsol- xi) / xsol ) * 100\n",
        "\n",
        "    print(\"{:^5d} {:^15.6f} {:^15.6f} {:^15.6f} {:^15.10f} {:^15.5f} \".format(niter, xi,  fxi,  Dfxi,  xsol,  error_rel) )\n",
        "\n",
        "print(f\" xsol ={xsol}\") "
      ],
      "execution_count": 12,
      "outputs": [
        {
          "output_type": "stream",
          "text": [
            "Iter        xi             f(xi)          f'(xi)           xsol          error_rel    \n",
            "  1      1.000000        -5.000000       -2.000000     -1.5000000000     10.00000     \n",
            "  1      -1.500000       -9.375000       55.500000     -1.3310810811     12.69036     \n",
            "  1      -1.331081       -1.455685       38.759012     -1.2935237457      2.90349     \n",
            "  1      -1.293524       -0.062908       35.432296     -1.2917482943      0.13745     \n",
            "  1      -1.291748       -0.000137       35.278477     -1.2917444224      0.00030     \n",
            " xsol =-1.2917444223701793\n"
          ],
          "name": "stdout"
        }
      ]
    }
  ]
}