{
  "nbformat": 4,
  "nbformat_minor": 0,
  "metadata": {
    "colab": {
      "name": "1octubre_1310.ipynb",
      "provenance": [],
      "authorship_tag": "ABX9TyMKHhgnPQOTLjHCoLdoy0dN",
      "include_colab_link": true
    },
    "kernelspec": {
      "name": "python3",
      "display_name": "Python 3"
    }
  },
  "cells": [
    {
      "cell_type": "markdown",
      "metadata": {
        "id": "view-in-github",
        "colab_type": "text"
      },
      "source": [
        "<a href=\"https://colab.research.google.com/github/OctavioRodriguezz/edd_1310_2021/blob/master/1octubre_1310.ipynb\" target=\"_parent\"><img src=\"https://colab.research.google.com/assets/colab-badge.svg\" alt=\"Open In Colab\"/></a>"
      ]
    },
    {
      "cell_type": "code",
      "metadata": {
        "id": "2LFgQdlV8CAB"
      },
      "source": [
        ""
      ],
      "execution_count": null,
      "outputs": []
    },
    {
      "cell_type": "markdown",
      "metadata": {
        "id": "ldvQAlV68a6W"
      },
      "source": [
        "## Intro Python 3\n",
        "### Variables\n",
        "tipo dinámico \n",
        " `escuela = \"FES Aragón\" `"
      ]
    },
    {
      "cell_type": "code",
      "metadata": {
        "id": "yw-ML1V08xCW",
        "outputId": "768d4654-d388-496e-c5f1-4c6ab8c38e2c",
        "colab": {
          "base_uri": "https://localhost:8080/",
          "height": 195
        }
      },
      "source": [
        "escuela = \"FES Aragón\"\n",
        "print(escuela)\n",
        "print(\"=======\")\n",
        "edad = 13\n",
        "estatura = 1.67\n",
        "fumador = True\n",
        "frase = \"\"\"\n",
        "Esta es \n",
        "una\n",
        "frase\n",
        "de multiples lineas\n",
        "y tambien es\n",
        "un tipo de dato\n",
        "\"\"\"\n",
        "print(frase)\n",
        "nombre = \"jose\"\n",
        "nombre_completo = \"jose sosa cardenas\"\n",
        "\n",
        "\n"
      ],
      "execution_count": 9,
      "outputs": [
        {
          "output_type": "stream",
          "text": [
            "FES Aragón\n",
            "=======\n",
            "\n",
            "Esta es \n",
            "una\n",
            "frase\n",
            "de multiples lineas\n",
            "y tambien es\n",
            "un tipo de dato\n",
            "\n"
          ],
          "name": "stdout"
        }
      ]
    },
    {
      "cell_type": "markdown",
      "metadata": {
        "id": "W4ymFyk4-set"
      },
      "source": [
        "# Print\n",
        "con comas,\n",
        "co signo más +\n",
        "con format()\n",
        "con el operador f\"\n"
      ]
    },
    {
      "cell_type": "code",
      "metadata": {
        "id": "ZSFvw5m1-wnc",
        "outputId": "109915ad-182a-4888-bec8-3f982e5440a9",
        "colab": {
          "base_uri": "https://localhost:8080/",
          "height": 141
        }
      },
      "source": [
        "print (nombre,edad)\n",
        "# el mas + concatena\n",
        "print(nombre + str(edad))\n",
        "print(nombre+nombre_completo)\n",
        "# con formato -> Su nombre es Jose y su edad es de 13 años.\n",
        "print(\"Su nombre es\",nombre,\"y su edad es de\" ,edad,\"años\")\n",
        "print (\"Su nombre es {0} y su edad es de {1} años.\".format(nombre,edad))\n",
        "print (\"Su nombre es {1} y su edad es de {0} años.\".format(nombre,edad))\n",
        "\n",
        "# con formato en el operador f\"\"\n",
        "print(f\"Su nombre es {nombre} y su edad es de {edad} años.\")\n",
        "\n",
        "\n",
        "\n",
        "\n"
      ],
      "execution_count": 16,
      "outputs": [
        {
          "output_type": "stream",
          "text": [
            "jose 13\n",
            "jose13\n",
            "josejose sosa cardenas\n",
            "Su nombre es jose y su edad es de 13 años\n",
            "Su nombre es jose y su edad es de 13 años.\n",
            "Su nombre es 13 y su edad es de jose años.\n",
            "Su nombre es jose y su edad es de 13 años.\n"
          ],
          "name": "stdout"
        }
      ]
    },
    {
      "cell_type": "markdown",
      "metadata": {
        "id": "LB2Pd53ADLja"
      },
      "source": [
        "# Caracteres de escape\n",
        "\\n salto de linea\n",
        "\n",
        "\\t tabuladfor\n",
        "\n",
        "\\a beep\n",
        "\n",
        "\\\\\"\n",
        "\n",
        "\\\\´\n"
      ]
    },
    {
      "cell_type": "code",
      "metadata": {
        "id": "TYB-mz12D7KV",
        "outputId": "e3d25a4c-bdf1-4701-a7c2-487ee61c75de",
        "colab": {
          "base_uri": "https://localhost:8080/",
          "height": 52
        }
      },
      "source": [
        "\"\"\"\n",
        "esto es\n",
        "un comentario de multiple linea\n",
        "tan tan\n",
        "\"\"\"\n",
        "print(f\"\\tMi nombre es\\n\\t\\t {nombre}\")\n"
      ],
      "execution_count": 17,
      "outputs": [
        {
          "output_type": "stream",
          "text": [
            "\tMi nombre es\n",
            "\t\t jose\n"
          ],
          "name": "stdout"
        }
      ]
    },
    {
      "cell_type": "markdown",
      "metadata": {
        "id": "NdAQbtqYE2Zr"
      },
      "source": [
        "#  Ayuda de tipos de dato en python\n",
        "dir() help()\n"
      ]
    },
    {
      "cell_type": "code",
      "metadata": {
        "id": "DjBkxQ-CE_Yy"
      },
      "source": [
        "# str int float bool ... list dict set\n",
        "dir(str)\n"
      ],
      "execution_count": null,
      "outputs": []
    },
    {
      "cell_type": "code",
      "metadata": {
        "id": "Ru6Bsi4nF3wW"
      },
      "source": [
        "print(nombre_completo.capitalize() )\n",
        "print(nombre_completo.upper() , end=\"----\" )\n",
        "print(nombre_completo.title() )"
      ],
      "execution_count": null,
      "outputs": []
    },
    {
      "cell_type": "code",
      "metadata": {
        "id": "QPj7Lj-xGqyV"
      },
      "source": [
        "help(print)\n"
      ],
      "execution_count": null,
      "outputs": []
    },
    {
      "cell_type": "markdown",
      "metadata": {
        "id": "DFKhhGeHHTlT"
      },
      "source": [
        "# calse string\n",
        "Es manejada como un arreglo (c o java) o lista (python)\n",
        "telefono = \"Huawei mate 30 pro\"\n",
        "\n",
        "\n",
        "`print(telefono[0])`"
      ]
    },
    {
      "cell_type": "code",
      "metadata": {
        "id": "Y9ytWPwwH5sS",
        "outputId": "a9b7f006-2391-42ac-f070-bfc837c323d5",
        "colab": {
          "base_uri": "https://localhost:8080/",
          "height": 35
        }
      },
      "source": [
        "telefono = \"Huawei mate 30 pro\"\n",
        "print(telefono[5] )\n"
      ],
      "execution_count": 23,
      "outputs": [
        {
          "output_type": "stream",
          "text": [
            "i\n"
          ],
          "name": "stdout"
        }
      ]
    },
    {
      "cell_type": "markdown",
      "metadata": {
        "id": "XSKub_-CI1N3"
      },
      "source": [
        "# slicing (rebanado)\n",
        "[inicio:stop:incremento]\n",
        "\n",
        "\n",
        "el stop no se inclute termina en el valor anterior al stop"
      ]
    },
    {
      "cell_type": "code",
      "metadata": {
        "id": "2CElR02eJE7x",
        "outputId": "179fd860-0356-4ec0-84ac-5204ae55e167",
        "colab": {
          "base_uri": "https://localhost:8080/",
          "height": 106
        }
      },
      "source": [
        "print(telefono[7:11:1])\n",
        "# el inicio y el incremento son opcionales \n",
        "print(telefono[:11:])\n",
        "# el valor por defecto de stop es len(str)\n",
        "print(telefono[::])\n",
        "# incremento negativo\n",
        "print(telefono[::-1])\n",
        "print(telefono[-3::1])\n",
        "\n"
      ],
      "execution_count": 28,
      "outputs": [
        {
          "output_type": "stream",
          "text": [
            "mate\n",
            "Huawei mate\n",
            "Huawei mate 30 pro\n",
            "orp 03 etam iewauH\n",
            "pro\n"
          ],
          "name": "stdout"
        }
      ]
    },
    {
      "cell_type": "markdown",
      "metadata": {
        "id": "GliCKXzuN06q"
      },
      "source": [
        "# Funciones de String (str)\n",
        "Esxisten metodos muy utiles en esta clase."
      ]
    },
    {
      "cell_type": "code",
      "metadata": {
        "id": "0mohkn7jN_Zt",
        "outputId": "08bc3534-a4d2-4f4a-bf1e-a29b34367bf9",
        "colab": {
          "base_uri": "https://localhost:8080/",
          "height": 266
        }
      },
      "source": [
        "facultad=\"    facultad de estudios superiores aragon      \"\n",
        "print(facultad.count(\"s\"))  #cuenta el numero de elements en la cadena\n",
        "print(facultad.find(\"s\")) #encuentra el elmento en la cdna\n",
        "print(facultad.strip())  #remueve espacios en blanco p y f y saltos de linea\n",
        "print(len(facultad))  #regresa el numero de items en el contanr\n",
        "print(facultad)\n",
        "print(facultad.split(\"a\"))\n",
        "print(facultad.strip().split(\" \"))\n",
        "\n",
        "\n",
        "\n",
        "#copiar cadenas\n",
        "otra_cadena = facultad\n",
        "print(otra_cadena)\n",
        "otra_cadena = \"FES Aragón\"\n",
        "print(facultad)\n",
        "print(otra_cadena)\n",
        "\n",
        "#copiar listas\n",
        "colores = [\"rojo\",\"verde\"]\n",
        "otra = colores\n",
        "print(colores)\n",
        "print(otra)\n",
        "otra.append(\"rosa\")\n",
        "print(colores)\n",
        "print(otra)\n",
        "\n"
      ],
      "execution_count": 41,
      "outputs": [
        {
          "output_type": "stream",
          "text": [
            "4\n",
            "17\n",
            "facultad de estudios superiores aragon\n",
            "48\n",
            "    facultad de estudios superiores aragon      \n",
            "['    f', 'cult', 'd de estudios superiores ', 'r', 'gon      ']\n",
            "['facultad', 'de', 'estudios', 'superiores', 'aragon']\n",
            "    facultad de estudios superiores aragon      \n",
            "    facultad de estudios superiores aragon      \n",
            "FES Aragón\n",
            "['rojo', 'verde']\n",
            "['rojo', 'verde']\n",
            "['rojo', 'verde', 'rosa']\n",
            "['rojo', 'verde', 'rosa']\n"
          ],
          "name": "stdout"
        }
      ]
    }
  ]
}