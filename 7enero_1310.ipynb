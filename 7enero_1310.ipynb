{
  "nbformat": 4,
  "nbformat_minor": 0,
  "metadata": {
    "colab": {
      "name": "7enero_1310.ipynb",
      "provenance": [],
      "authorship_tag": "ABX9TyOKaAuP9pUs1bNWW4grBZpG",
      "include_colab_link": true
    },
    "kernelspec": {
      "name": "python3",
      "display_name": "Python 3"
    }
  },
  "cells": [
    {
      "cell_type": "markdown",
      "metadata": {
        "id": "view-in-github",
        "colab_type": "text"
      },
      "source": [
        "<a href=\"https://colab.research.google.com/github/OctavioRodriguezz/edd_1310_2021/blob/master/7enero_1310.ipynb\" target=\"_parent\"><img src=\"https://colab.research.google.com/assets/colab-badge.svg\" alt=\"Open In Colab\"/></a>"
      ]
    },
    {
      "cell_type": "code",
      "metadata": {
        "id": "fzQ3zRp9BDvi"
      },
      "source": [
        "class BoundedPriorityQueue:\r\n",
        "  def __init__( self , niveles ):\r\n",
        "    self.__data = [ Queue() for x in range(niveles)  ]\r\n",
        "    self.__size = 0\r\n",
        "\r\n",
        "  def is_empty( self ):\r\n",
        "    return self.__size == 0\r\n",
        "\r\n",
        "  def length( self ):\r\n",
        "    return self.__size \r\n",
        "\r\n",
        "  def enqueue( self , prioridad , elem ):\r\n",
        "    if prioridad < self.length() and prioridad >= 0:\r\n",
        "      self.__data[prioridad].enqueue(elem)\r\n",
        "\r\n",
        "  def dequeue( self ):\r\n",
        "    if not self.is_empty():\r\n",
        "      for nivel in self.__data:\r\n",
        "        if not nivel.is_empty():\r\n",
        "          self.__size -= 1\r\n",
        "          return nivel.dequeue()\r\n",
        "\r\n",
        "  def to_string( self ):\r\n",
        "    print(\"Cola:\")\r\n",
        "    for nivel in range(len(self.__data)):\r\n",
        "      print(f\" Nivel {nivel} --> { self.__data[nivel].to_string() } \"\r\n",
        "      \r\n",
        "\r\n",
        "  \r\n",
        "\r\n",
        "    "
      ],
      "execution_count": null,
      "outputs": []
    },
    {
      "cell_type": "code",
      "metadata": {
        "id": "v5cW70yrJBQ-"
      },
      "source": [
        "from colas import Queue,BoundedPriorityQueue\r\n",
        "# cola = Queue()\r\n",
        "# cola.enqueue(3)\r\n",
        "# cola.enqueue(33)\r\n",
        "# cola.enqueue(23)\r\n",
        "# print(cola.to_string())\r\n",
        "# cola.length()\r\n",
        "# cola.dequeue()\r\n",
        "# print(cola.to_string())\r\n",
        "\r\n",
        "#print(\"Prueba 2 de Queue\")\r\n",
        "#c1={ \"id\":1 ,  \"nombre\":\"Mario\" , \"Balance\": 20.5 }\r\n",
        "#c2={ \"id\":2 ,  \"nombre\":\"Biana\" , \"Balance\": 3265.5 }\r\n",
        "#c3={ \"id\":3 ,  \"nombre\":\"Bartolo\" , \"Balance\": 10000.5 }\r\n",
        "\r\n",
        "#atencion = Queue()\r\n",
        "#atencion.enqueue(c1)\r\n",
        "#atencion.enqueue(c2)\r\n",
        "#atencion.enqueue(c3)\r\n",
        "#print(atencion.to_string())\r\n",
        "#siguiente = atencion.dequeue()\r\n",
        "#print(f\"Bienvenido sr. { siguiente}\")\r\n",
        "# print(atencion.to_string())\r\n",
        "\r\n",
        "\r\n",
        "print(\"Pruebas de las colas con prioridad acotada\")\r\n",
        "\r\n",
        "maestres = {\"prioridad\":4, \"descripcion\":\"Maestre\",\"personas\":[\"juan p\",\"diego h\"]}\r\n",
        "niños = {\"prioridad\":2, \"descripcion\":\"Niños\",\"personas\":[\"juan p\",\"diego h\"]}\r\n",
        "mecanicos = {\"prioridad\":4, \"descripcion\":\"Mecanicos\",\"personas\":[\"juan p\",\"diego h\"]}\r\n",
        "\r\n",
        "cpa = BoundedPriorityQueue(7)\r\n",
        "cpa.enqueue(maestres['prioridad'], maestres)\r\n",
        "cpa.enqueue(niños['prioridad'], niños)\r\n",
        "cpa.enqueue(mecanicos['prioridad'], mecanicos)\r\n",
        "cpa.to_string()"
      ],
      "execution_count": null,
      "outputs": []
    }
  ]
}